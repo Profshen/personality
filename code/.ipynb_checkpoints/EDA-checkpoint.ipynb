{
 "cells": [
  {
   "cell_type": "code",
   "execution_count": null,
   "metadata": {
    "collapsed": false
   },
   "outputs": [],
   "source": [
    "import numpy as np\n",
    "import pandas as pd\n",
    "from collections import defaultdict\n",
    "import matplotlib.pyplot as plt\n",
    "%matplotlib inline  \n",
    "from sklearn.decomposition import NMF\n",
    "from sklearn.decomposition import ProjectedGradientNMF\n",
    "from numpy import array, matrix, linalg\n",
    "from sklearn.metrics import mean_squared_error\n",
    "from sklearn.decomposition import TruncatedSVD\n",
    "from scipy.linalg import svd"
   ]
  },
  {
   "cell_type": "markdown",
   "metadata": {},
   "source": [
    "Main data:"
   ]
  },
  {
   "cell_type": "code",
   "execution_count": null,
   "metadata": {
    "collapsed": false
   },
   "outputs": [],
   "source": [
    "data = pd.read_csv('data/16PF/data.csv', delimiter = \"\\t\")"
   ]
  },
  {
   "cell_type": "code",
   "execution_count": null,
   "metadata": {
    "collapsed": false
   },
   "outputs": [],
   "source": [
    "data.head()"
   ]
  },
  {
   "cell_type": "code",
   "execution_count": null,
   "metadata": {
    "collapsed": false
   },
   "outputs": [],
   "source": [
    "data['A1'].describe()"
   ]
  },
  {
   "cell_type": "code",
   "execution_count": null,
   "metadata": {
    "collapsed": false
   },
   "outputs": [],
   "source": [
    "#This test shows that every question on every test included has been filled out, meaning that there is no missing data\n",
    "\n",
    "temp = data.describe().iloc[0]\n",
    "temp[temp != 49159]\n"
   ]
  },
  {
   "cell_type": "markdown",
   "metadata": {},
   "source": [
    "Making the Supplementary \"Questions\" DataFrame"
   ]
  },
  {
   "cell_type": "markdown",
   "metadata": {},
   "source": [
    "First Make the \"A1\" (Letter_Number) / Question matrix:"
   ]
  },
  {
   "cell_type": "code",
   "execution_count": null,
   "metadata": {
    "collapsed": true
   },
   "outputs": [],
   "source": [
    "data2 = pd.read_csv('data/16PF/questions', sep='\\t')"
   ]
  },
  {
   "cell_type": "code",
   "execution_count": null,
   "metadata": {
    "collapsed": false
   },
   "outputs": [],
   "source": [
    "questions_raw = data2[0:162][['Field','Description']]\n",
    "questions_raw['Description'] = questions_raw['Description'].apply(lambda x: x.split(\" rated\")[0])\n",
    "questions_raw"
   ]
  },
  {
   "cell_type": "code",
   "execution_count": null,
   "metadata": {
    "collapsed": false
   },
   "outputs": [],
   "source": [
    "questions = questions_raw.set_index(questions_raw['Field'])['Description'].apply(lambda x: x.split(\" rated\")[0])"
   ]
  },
  {
   "cell_type": "code",
   "execution_count": null,
   "metadata": {
    "collapsed": false
   },
   "outputs": [],
   "source": [
    "questions = pd.DataFrame(questions)"
   ]
  },
  {
   "cell_type": "markdown",
   "metadata": {},
   "source": [
    "Getting the category letter and category name:"
   ]
  },
  {
   "cell_type": "code",
   "execution_count": null,
   "metadata": {
    "collapsed": true
   },
   "outputs": [],
   "source": [
    "def change_trait(x):\n",
    "    if x == 'A':\n",
    "        return \"Warmth\"\n",
    "    if x == 'B':\n",
    "        return \"Reasoning\"\n",
    "    if x == 'C':\n",
    "        return \"Emotional Stability\"    \n",
    "    if x == 'D':\n",
    "        return \"Dominance\"\n",
    "    if x == 'E':\n",
    "        return \"Liveliness\"\n",
    "    if x == 'F':\n",
    "        return \"Rule-Consciousness\"\n",
    "    if x == 'G':\n",
    "        return \"Social Boldness\"\n",
    "    if x == 'H':\n",
    "        return \"Sensitivity\"\n",
    "    if x == 'I':\n",
    "        return \"Vigilance\"\n",
    "    if x == 'J':\n",
    "        return \"Abstractedness\"\n",
    "    if x == 'K':\n",
    "        return \"Privateness\"\n",
    "    if x == 'L':\n",
    "        return \"Apprehension\"\n",
    "    if x == 'M':\n",
    "        return \"Openness to Change\"\n",
    "    if x == 'N':\n",
    "        return \"Self-Reliance\"\n",
    "    if x == 'O':\n",
    "        return \"Perfectionism\"\n",
    "    if x == 'P':\n",
    "        return \"Tension\""
   ]
  },
  {
   "cell_type": "code",
   "execution_count": null,
   "metadata": {
    "collapsed": true
   },
   "outputs": [],
   "source": [
    "category_columns = [x[0] for x in data.columns[:163]]"
   ]
  },
  {
   "cell_type": "code",
   "execution_count": null,
   "metadata": {
    "collapsed": false
   },
   "outputs": [],
   "source": [
    "trait_pre1 = pd.DataFrame(category_columns, columns = ['trait_letter'], index = data.columns[0:163])"
   ]
  },
  {
   "cell_type": "code",
   "execution_count": null,
   "metadata": {
    "collapsed": false
   },
   "outputs": [],
   "source": [
    "trait_pre1.head()"
   ]
  },
  {
   "cell_type": "code",
   "execution_count": null,
   "metadata": {
    "collapsed": false
   },
   "outputs": [],
   "source": [
    "questions['Trait'] = trait_pre1.applymap(lambda x: change_trait(x))"
   ]
  },
  {
   "cell_type": "code",
   "execution_count": null,
   "metadata": {
    "collapsed": true
   },
   "outputs": [],
   "source": []
  },
  {
   "cell_type": "code",
   "execution_count": null,
   "metadata": {
    "collapsed": false
   },
   "outputs": [],
   "source": []
  },
  {
   "cell_type": "code",
   "execution_count": null,
   "metadata": {
    "collapsed": false
   },
   "outputs": [],
   "source": [
    "questions['Trait_Letter'] = trait_pre1"
   ]
  },
  {
   "cell_type": "code",
   "execution_count": null,
   "metadata": {
    "collapsed": false
   },
   "outputs": [],
   "source": [
    "questions = questions[:-1]"
   ]
  },
  {
   "cell_type": "code",
   "execution_count": null,
   "metadata": {
    "collapsed": false
   },
   "outputs": [],
   "source": [
    "questions.head()"
   ]
  },
  {
   "cell_type": "code",
   "execution_count": 123,
   "metadata": {
    "collapsed": false
   },
   "outputs": [
    {
     "data": {
      "text/plain": [
       "['A',\n",
       " 'A',\n",
       " 'A',\n",
       " 'A',\n",
       " 'A',\n",
       " 'A',\n",
       " 'A',\n",
       " 'A',\n",
       " 'A',\n",
       " 'A',\n",
       " 'B',\n",
       " 'B',\n",
       " 'B',\n",
       " 'B',\n",
       " 'B',\n",
       " 'B',\n",
       " 'B',\n",
       " 'B',\n",
       " 'B',\n",
       " 'B',\n",
       " 'B',\n",
       " 'B',\n",
       " 'B',\n",
       " 'C',\n",
       " 'C',\n",
       " 'C',\n",
       " 'C',\n",
       " 'C',\n",
       " 'C',\n",
       " 'C',\n",
       " 'C',\n",
       " 'C',\n",
       " 'C',\n",
       " 'D',\n",
       " 'D',\n",
       " 'D',\n",
       " 'D',\n",
       " 'D',\n",
       " 'D',\n",
       " 'D',\n",
       " 'D',\n",
       " 'D',\n",
       " 'D',\n",
       " 'E',\n",
       " 'E',\n",
       " 'E',\n",
       " 'E',\n",
       " 'E',\n",
       " 'E',\n",
       " 'E',\n",
       " 'E',\n",
       " 'E',\n",
       " 'E',\n",
       " 'F',\n",
       " 'F',\n",
       " 'F',\n",
       " 'F',\n",
       " 'F',\n",
       " 'F',\n",
       " 'F',\n",
       " 'F',\n",
       " 'F',\n",
       " 'F',\n",
       " 'G',\n",
       " 'G',\n",
       " 'G',\n",
       " 'G',\n",
       " 'G',\n",
       " 'G',\n",
       " 'G',\n",
       " 'G',\n",
       " 'G',\n",
       " 'G',\n",
       " 'H',\n",
       " 'H',\n",
       " 'H',\n",
       " 'H',\n",
       " 'H',\n",
       " 'H',\n",
       " 'H',\n",
       " 'H',\n",
       " 'H',\n",
       " 'H',\n",
       " 'I',\n",
       " 'I',\n",
       " 'I',\n",
       " 'I',\n",
       " 'I',\n",
       " 'I',\n",
       " 'I',\n",
       " 'I',\n",
       " 'I',\n",
       " 'I',\n",
       " 'J',\n",
       " 'J',\n",
       " 'J',\n",
       " 'J',\n",
       " 'J',\n",
       " 'J',\n",
       " 'J',\n",
       " 'J',\n",
       " 'J',\n",
       " 'J',\n",
       " 'K',\n",
       " 'K',\n",
       " 'K',\n",
       " 'K',\n",
       " 'K',\n",
       " 'K',\n",
       " 'K',\n",
       " 'K',\n",
       " 'K',\n",
       " 'K',\n",
       " 'L',\n",
       " 'L',\n",
       " 'L',\n",
       " 'L',\n",
       " 'L',\n",
       " 'L',\n",
       " 'L',\n",
       " 'L',\n",
       " 'L',\n",
       " 'L',\n",
       " 'M',\n",
       " 'M',\n",
       " 'M',\n",
       " 'M',\n",
       " 'M',\n",
       " 'M',\n",
       " 'M',\n",
       " 'M',\n",
       " 'M',\n",
       " 'M',\n",
       " 'N',\n",
       " 'N',\n",
       " 'N',\n",
       " 'N',\n",
       " 'N',\n",
       " 'N',\n",
       " 'N',\n",
       " 'N',\n",
       " 'N',\n",
       " 'N',\n",
       " 'O',\n",
       " 'O',\n",
       " 'O',\n",
       " 'O',\n",
       " 'O',\n",
       " 'O',\n",
       " 'O',\n",
       " 'O',\n",
       " 'O',\n",
       " 'O',\n",
       " 'P',\n",
       " 'P',\n",
       " 'P',\n",
       " 'P',\n",
       " 'P',\n",
       " 'P',\n",
       " 'P',\n",
       " 'P',\n",
       " 'P',\n",
       " 'P']"
      ]
     },
     "execution_count": 123,
     "metadata": {},
     "output_type": "execute_result"
    }
   ],
   "source": [
    "questions2 = questions_pre1['Description'].apply(lambda x: x.split(\" rated\")[0])\n",
    "trait_pre1 = pd.DataFrame(category_columns, columns = ['trait_letter'], index = data.columns[0:163])"
   ]
  },
  {
   "cell_type": "markdown",
   "metadata": {},
   "source": [
    "Pulling the Country:"
   ]
  },
  {
   "cell_type": "code",
   "execution_count": 44,
   "metadata": {
    "collapsed": false
   },
   "outputs": [
    {
     "data": {
      "text/html": [
       "<div>\n",
       "<table border=\"1\" class=\"dataframe\">\n",
       "  <thead>\n",
       "    <tr style=\"text-align: right;\">\n",
       "      <th></th>\n",
       "      <th>Code</th>\n",
       "      <th>Country</th>\n",
       "    </tr>\n",
       "  </thead>\n",
       "  <tbody>\n",
       "    <tr>\n",
       "      <th>0</th>\n",
       "      <td>A1</td>\n",
       "      <td>Anonymous Proxy</td>\n",
       "    </tr>\n",
       "    <tr>\n",
       "      <th>1</th>\n",
       "      <td>A2</td>\n",
       "      <td>Satellite Provider</td>\n",
       "    </tr>\n",
       "    <tr>\n",
       "      <th>2</th>\n",
       "      <td>O1</td>\n",
       "      <td>Other Country</td>\n",
       "    </tr>\n",
       "    <tr>\n",
       "      <th>3</th>\n",
       "      <td>AD</td>\n",
       "      <td>Andorra</td>\n",
       "    </tr>\n",
       "    <tr>\n",
       "      <th>4</th>\n",
       "      <td>AE</td>\n",
       "      <td>United Arab Emirates</td>\n",
       "    </tr>\n",
       "  </tbody>\n",
       "</table>\n",
       "</div>"
      ],
      "text/plain": [
       "  Code             Country  \n",
       "0   A1       Anonymous Proxy\n",
       "1   A2    Satellite Provider\n",
       "2   O1         Other Country\n",
       "3   AD               Andorra\n",
       "4   AE  United Arab Emirates"
      ]
     },
     "execution_count": 44,
     "metadata": {},
     "output_type": "execute_result"
    }
   ],
   "source": [
    "country = pd.read_csv('data/16PF/country', sep='\\t', delimiter = \",\", dtype = {\"Code\": np.str, \"Country\": np.str}) #index_col = 'Code'\n",
    "country.head()"
   ]
  },
  {
   "cell_type": "code",
   "execution_count": 45,
   "metadata": {
    "collapsed": false
   },
   "outputs": [],
   "source": [
    "country_dict = {}\n",
    "for i in country.iterrows():\n",
    "    country_dict[i[1][0]] = i[1][1]\n",
    "country_dict['FX'] = 'France, Metropolitan'\n"
   ]
  },
  {
   "cell_type": "code",
   "execution_count": 46,
   "metadata": {
    "collapsed": false
   },
   "outputs": [
    {
     "data": {
      "text/plain": [
       "{nan: 'Namibia',\n",
       " 'A1': 'Anonymous Proxy',\n",
       " 'A2': 'Satellite Provider',\n",
       " 'AD': 'Andorra',\n",
       " 'AE': 'United Arab Emirates',\n",
       " 'AF': 'Afghanistan',\n",
       " 'AG': 'Antigua and Barbuda',\n",
       " 'AI': 'Anguilla',\n",
       " 'AL': 'Albania',\n",
       " 'AM': 'Armenia',\n",
       " 'AO': 'Angola',\n",
       " 'AP': 'Asia/Pacific Region',\n",
       " 'AQ': 'Antarctica',\n",
       " 'AR': 'Argentina',\n",
       " 'AS': 'American Samoa',\n",
       " 'AT': 'Austria',\n",
       " 'AU': 'Australia',\n",
       " 'AW': 'Aruba',\n",
       " 'AX': 'Aland Islands',\n",
       " 'AZ': 'Azerbaijan',\n",
       " 'BA': 'Bosnia and Herzegovina',\n",
       " 'BB': 'Barbados',\n",
       " 'BD': 'Bangladesh',\n",
       " 'BE': 'Belgium',\n",
       " 'BF': 'Burkina Faso',\n",
       " 'BG': 'Bulgaria',\n",
       " 'BH': 'Bahrain',\n",
       " 'BI': 'Burundi',\n",
       " 'BJ': 'Benin',\n",
       " 'BL': 'Saint Bartelemey',\n",
       " 'BM': 'Bermuda',\n",
       " 'BN': 'Brunei Darussalam',\n",
       " 'BO': 'Bolivia',\n",
       " 'BQ': 'Bonaire, Saint Eustatius and Saba',\n",
       " 'BR': 'Brazil',\n",
       " 'BS': 'Bahamas',\n",
       " 'BT': 'Bhutan',\n",
       " 'BV': 'Bouvet Island',\n",
       " 'BW': 'Botswana',\n",
       " 'BY': 'Belarus',\n",
       " 'BZ': 'Belize',\n",
       " 'CA': 'Canada',\n",
       " 'CC': 'Cocos (Keeling) Islands',\n",
       " 'CD': 'Congo, The Democratic Republic of the',\n",
       " 'CF': 'Central African Republic',\n",
       " 'CG': 'Congo',\n",
       " 'CH': 'Switzerland',\n",
       " 'CI': \"Cote d'Ivoire\",\n",
       " 'CK': 'Cook Islands',\n",
       " 'CL': 'Chile',\n",
       " 'CM': 'Cameroon',\n",
       " 'CN': 'China',\n",
       " 'CO': 'Colombia',\n",
       " 'CR': 'Costa Rica',\n",
       " 'CU': 'Cuba',\n",
       " 'CV': 'Cape Verde',\n",
       " 'CW': 'Curacao',\n",
       " 'CX': 'Christmas Island',\n",
       " 'CY': 'Cyprus',\n",
       " 'CZ': 'Czech Republic',\n",
       " 'DE': 'Germany',\n",
       " 'DJ': 'Djibouti',\n",
       " 'DK': 'Denmark',\n",
       " 'DM': 'Dominica',\n",
       " 'DO': 'Dominican Republic',\n",
       " 'DZ': 'Algeria',\n",
       " 'EC': 'Ecuador',\n",
       " 'EE': 'Estonia',\n",
       " 'EG': 'Egypt',\n",
       " 'EH': 'Western Sahara',\n",
       " 'ER': 'Eritrea',\n",
       " 'ES': 'Spain',\n",
       " 'ET': 'Ethiopia',\n",
       " 'EU': 'Europe',\n",
       " 'FI': 'Finland',\n",
       " 'FJ': 'Fiji',\n",
       " 'FK': 'Falkland Islands (Malvinas)',\n",
       " 'FM': 'Micronesia, Federated States of',\n",
       " 'FO': 'Faroe Islands',\n",
       " 'FR': 'France',\n",
       " 'FX': 'France, Metropolitan',\n",
       " 'GA': 'Gabon',\n",
       " 'GB': 'United Kingdom',\n",
       " 'GD': 'Grenada',\n",
       " 'GE': 'Georgia',\n",
       " 'GF': 'French Guiana',\n",
       " 'GG': 'Guernsey',\n",
       " 'GH': 'Ghana',\n",
       " 'GI': 'Gibraltar',\n",
       " 'GL': 'Greenland',\n",
       " 'GM': 'Gambia',\n",
       " 'GN': 'Guinea',\n",
       " 'GP': 'Guadeloupe',\n",
       " 'GQ': 'Equatorial Guinea',\n",
       " 'GR': 'Greece',\n",
       " 'GS': 'South Georgia and the South Sandwich Islands',\n",
       " 'GT': 'Guatemala',\n",
       " 'GU': 'Guam',\n",
       " 'GW': 'Guinea-Bissau',\n",
       " 'GY': 'Guyana',\n",
       " 'HK': 'Hong Kong',\n",
       " 'HM': 'Heard Island and McDonald Islands',\n",
       " 'HN': 'Honduras',\n",
       " 'HR': 'Croatia',\n",
       " 'HT': 'Haiti',\n",
       " 'HU': 'Hungary',\n",
       " 'ID': 'Indonesia',\n",
       " 'IE': 'Ireland',\n",
       " 'IL': 'Israel',\n",
       " 'IM': 'Isle of Man',\n",
       " 'IN': 'India',\n",
       " 'IO': 'British Indian Ocean Territory',\n",
       " 'IQ': 'Iraq',\n",
       " 'IR': 'Iran, Islamic Republic of',\n",
       " 'IS': 'Iceland',\n",
       " 'IT': 'Italy',\n",
       " 'JE': 'Jersey',\n",
       " 'JM': 'Jamaica',\n",
       " 'JO': 'Jordan',\n",
       " 'JP': 'Japan',\n",
       " 'KE': 'Kenya',\n",
       " 'KG': 'Kyrgyzstan',\n",
       " 'KH': 'Cambodia',\n",
       " 'KI': 'Kiribati',\n",
       " 'KM': 'Comoros',\n",
       " 'KN': 'Saint Kitts and Nevis',\n",
       " 'KP': \"Korea, Democratic People's Republic of\",\n",
       " 'KR': 'Korea, Republic of',\n",
       " 'KW': 'Kuwait',\n",
       " 'KY': 'Cayman Islands',\n",
       " 'KZ': 'Kazakhstan',\n",
       " 'LA': \"Lao People's Democratic Republic\",\n",
       " 'LB': 'Lebanon',\n",
       " 'LC': 'Saint Lucia',\n",
       " 'LI': 'Liechtenstein',\n",
       " 'LK': 'Sri Lanka',\n",
       " 'LR': 'Liberia',\n",
       " 'LS': 'Lesotho',\n",
       " 'LT': 'Lithuania',\n",
       " 'LU': 'Luxembourg',\n",
       " 'LV': 'Latvia',\n",
       " 'LY': 'Libyan Arab Jamahiriya',\n",
       " 'MA': 'Morocco',\n",
       " 'MC': 'Monaco',\n",
       " 'MD': 'Moldova, Republic of',\n",
       " 'ME': 'Montenegro',\n",
       " 'MF': 'Saint Martin',\n",
       " 'MG': 'Madagascar',\n",
       " 'MH': 'Marshall Islands',\n",
       " 'MK': 'Macedonia',\n",
       " 'ML': 'Mali',\n",
       " 'MM': 'Myanmar',\n",
       " 'MN': 'Mongolia',\n",
       " 'MO': 'Macao',\n",
       " 'MP': 'Northern Mariana Islands',\n",
       " 'MQ': 'Martinique',\n",
       " 'MR': 'Mauritania',\n",
       " 'MS': 'Montserrat',\n",
       " 'MT': 'Malta',\n",
       " 'MU': 'Mauritius',\n",
       " 'MV': 'Maldives',\n",
       " 'MW': 'Malawi',\n",
       " 'MX': 'Mexico',\n",
       " 'MY': 'Malaysia',\n",
       " 'MZ': 'Mozambique',\n",
       " 'NC': 'New Caledonia',\n",
       " 'NE': 'Niger',\n",
       " 'NF': 'Norfolk Island',\n",
       " 'NG': 'Nigeria',\n",
       " 'NI': 'Nicaragua',\n",
       " 'NL': 'Netherlands',\n",
       " 'NO': 'Norway',\n",
       " 'NP': 'Nepal',\n",
       " 'NR': 'Nauru',\n",
       " 'NU': 'Niue',\n",
       " 'NZ': 'New Zealand',\n",
       " 'O1': 'Other Country',\n",
       " 'OM': 'Oman',\n",
       " 'PA': 'Panama',\n",
       " 'PE': 'Peru',\n",
       " 'PF': 'French Polynesia',\n",
       " 'PG': 'Papua New Guinea',\n",
       " 'PH': 'Philippines',\n",
       " 'PK': 'Pakistan',\n",
       " 'PL': 'Poland',\n",
       " 'PM': 'Saint Pierre and Miquelon',\n",
       " 'PN': 'Pitcairn',\n",
       " 'PR': 'Puerto Rico',\n",
       " 'PS': 'Palestinian Territory',\n",
       " 'PT': 'Portugal',\n",
       " 'PW': 'Palau',\n",
       " 'PY': 'Paraguay',\n",
       " 'QA': 'Qatar',\n",
       " 'RE': 'Reunion',\n",
       " 'RO': 'Romania',\n",
       " 'RS': 'Serbia',\n",
       " 'RU': 'Russian Federation',\n",
       " 'RW': 'Rwanda',\n",
       " 'SA': 'Saudi Arabia',\n",
       " 'SB': 'Solomon Islands',\n",
       " 'SC': 'Seychelles',\n",
       " 'SD': 'Sudan',\n",
       " 'SE': 'Sweden',\n",
       " 'SG': 'Singapore',\n",
       " 'SH': 'Saint Helena',\n",
       " 'SI': 'Slovenia',\n",
       " 'SJ': 'Svalbard and Jan Mayen',\n",
       " 'SK': 'Slovakia',\n",
       " 'SL': 'Sierra Leone',\n",
       " 'SM': 'San Marino',\n",
       " 'SN': 'Senegal',\n",
       " 'SO': 'Somalia',\n",
       " 'SR': 'Suriname',\n",
       " 'SS': 'South Sudan',\n",
       " 'ST': 'Sao Tome and Principe',\n",
       " 'SV': 'El Salvador',\n",
       " 'SX': 'Sint Maarten',\n",
       " 'SY': 'Syrian Arab Republic',\n",
       " 'SZ': 'Swaziland',\n",
       " 'TC': 'Turks and Caicos Islands',\n",
       " 'TD': 'Chad',\n",
       " 'TF': 'French Southern Territories',\n",
       " 'TG': 'Togo',\n",
       " 'TH': 'Thailand',\n",
       " 'TJ': 'Tajikistan',\n",
       " 'TK': 'Tokelau',\n",
       " 'TL': 'Timor-Leste',\n",
       " 'TM': 'Turkmenistan',\n",
       " 'TN': 'Tunisia',\n",
       " 'TO': 'Tonga',\n",
       " 'TR': 'Turkey',\n",
       " 'TT': 'Trinidad and Tobago',\n",
       " 'TV': 'Tuvalu',\n",
       " 'TW': 'Taiwan',\n",
       " 'TZ': 'Tanzania, United Republic of',\n",
       " 'UA': 'Ukraine',\n",
       " 'UG': 'Uganda',\n",
       " 'UM': 'United States Minor Outlying Islands',\n",
       " 'US': 'United States',\n",
       " 'UY': 'Uruguay',\n",
       " 'UZ': 'Uzbekistan',\n",
       " 'VA': 'Holy See (Vatican City State)',\n",
       " 'VC': 'Saint Vincent and the Grenadines',\n",
       " 'VE': 'Venezuela',\n",
       " 'VG': 'Virgin Islands, British',\n",
       " 'VI': 'Virgin Islands, U.S.',\n",
       " 'VN': 'Vietnam',\n",
       " 'VU': 'Vanuatu',\n",
       " 'WF': 'Wallis and Futuna',\n",
       " 'WS': 'Samoa',\n",
       " 'YE': 'Yemen',\n",
       " 'YT': 'Mayotte',\n",
       " 'ZA': 'South Africa',\n",
       " 'ZM': 'Zambia',\n",
       " 'ZW': 'Zimbabwe'}"
      ]
     },
     "execution_count": 46,
     "metadata": {},
     "output_type": "execute_result"
    }
   ],
   "source": [
    "country_dict"
   ]
  },
  {
   "cell_type": "code",
   "execution_count": 47,
   "metadata": {
    "collapsed": false
   },
   "outputs": [
    {
     "data": {
      "text/plain": [
       "{nan: 'Namibia',\n",
       " 'A1': 'Anonymous Proxy',\n",
       " 'A2': 'Satellite Provider',\n",
       " 'AD': 'Andorra',\n",
       " 'AE': 'United Arab Emirates',\n",
       " 'AF': 'Afghanistan',\n",
       " 'AG': 'Antigua and Barbuda',\n",
       " 'AI': 'Anguilla',\n",
       " 'AL': 'Albania',\n",
       " 'AM': 'Armenia',\n",
       " 'AO': 'Angola',\n",
       " 'AP': 'Asia/Pacific Region',\n",
       " 'AQ': 'Antarctica',\n",
       " 'AR': 'Argentina',\n",
       " 'AS': 'American Samoa',\n",
       " 'AT': 'Austria',\n",
       " 'AU': 'Australia',\n",
       " 'AW': 'Aruba',\n",
       " 'AX': 'Aland Islands',\n",
       " 'AZ': 'Azerbaijan',\n",
       " 'BA': 'Bosnia and Herzegovina',\n",
       " 'BB': 'Barbados',\n",
       " 'BD': 'Bangladesh',\n",
       " 'BE': 'Belgium',\n",
       " 'BF': 'Burkina Faso',\n",
       " 'BG': 'Bulgaria',\n",
       " 'BH': 'Bahrain',\n",
       " 'BI': 'Burundi',\n",
       " 'BJ': 'Benin',\n",
       " 'BL': 'Saint Bartelemey',\n",
       " 'BM': 'Bermuda',\n",
       " 'BN': 'Brunei Darussalam',\n",
       " 'BO': 'Bolivia',\n",
       " 'BQ': 'Bonaire, Saint Eustatius and Saba',\n",
       " 'BR': 'Brazil',\n",
       " 'BS': 'Bahamas',\n",
       " 'BT': 'Bhutan',\n",
       " 'BV': 'Bouvet Island',\n",
       " 'BW': 'Botswana',\n",
       " 'BY': 'Belarus',\n",
       " 'BZ': 'Belize',\n",
       " 'CA': 'Canada',\n",
       " 'CC': 'Cocos (Keeling) Islands',\n",
       " 'CD': 'Congo, The Democratic Republic of the',\n",
       " 'CF': 'Central African Republic',\n",
       " 'CG': 'Congo',\n",
       " 'CH': 'Switzerland',\n",
       " 'CI': \"Cote d'Ivoire\",\n",
       " 'CK': 'Cook Islands',\n",
       " 'CL': 'Chile',\n",
       " 'CM': 'Cameroon',\n",
       " 'CN': 'China',\n",
       " 'CO': 'Colombia',\n",
       " 'CR': 'Costa Rica',\n",
       " 'CU': 'Cuba',\n",
       " 'CV': 'Cape Verde',\n",
       " 'CW': 'Curacao',\n",
       " 'CX': 'Christmas Island',\n",
       " 'CY': 'Cyprus',\n",
       " 'CZ': 'Czech Republic',\n",
       " 'DE': 'Germany',\n",
       " 'DJ': 'Djibouti',\n",
       " 'DK': 'Denmark',\n",
       " 'DM': 'Dominica',\n",
       " 'DO': 'Dominican Republic',\n",
       " 'DZ': 'Algeria',\n",
       " 'EC': 'Ecuador',\n",
       " 'EE': 'Estonia',\n",
       " 'EG': 'Egypt',\n",
       " 'EH': 'Western Sahara',\n",
       " 'ER': 'Eritrea',\n",
       " 'ES': 'Spain',\n",
       " 'ET': 'Ethiopia',\n",
       " 'EU': 'Europe',\n",
       " 'FI': 'Finland',\n",
       " 'FJ': 'Fiji',\n",
       " 'FK': 'Falkland Islands (Malvinas)',\n",
       " 'FM': 'Micronesia, Federated States of',\n",
       " 'FO': 'Faroe Islands',\n",
       " 'FR': 'France',\n",
       " 'FX': 'France, Metropolitan',\n",
       " 'GA': 'Gabon',\n",
       " 'GB': 'United Kingdom',\n",
       " 'GD': 'Grenada',\n",
       " 'GE': 'Georgia',\n",
       " 'GF': 'French Guiana',\n",
       " 'GG': 'Guernsey',\n",
       " 'GH': 'Ghana',\n",
       " 'GI': 'Gibraltar',\n",
       " 'GL': 'Greenland',\n",
       " 'GM': 'Gambia',\n",
       " 'GN': 'Guinea',\n",
       " 'GP': 'Guadeloupe',\n",
       " 'GQ': 'Equatorial Guinea',\n",
       " 'GR': 'Greece',\n",
       " 'GS': 'South Georgia and the South Sandwich Islands',\n",
       " 'GT': 'Guatemala',\n",
       " 'GU': 'Guam',\n",
       " 'GW': 'Guinea-Bissau',\n",
       " 'GY': 'Guyana',\n",
       " 'HK': 'Hong Kong',\n",
       " 'HM': 'Heard Island and McDonald Islands',\n",
       " 'HN': 'Honduras',\n",
       " 'HR': 'Croatia',\n",
       " 'HT': 'Haiti',\n",
       " 'HU': 'Hungary',\n",
       " 'ID': 'Indonesia',\n",
       " 'IE': 'Ireland',\n",
       " 'IL': 'Israel',\n",
       " 'IM': 'Isle of Man',\n",
       " 'IN': 'India',\n",
       " 'IO': 'British Indian Ocean Territory',\n",
       " 'IQ': 'Iraq',\n",
       " 'IR': 'Iran, Islamic Republic of',\n",
       " 'IS': 'Iceland',\n",
       " 'IT': 'Italy',\n",
       " 'JE': 'Jersey',\n",
       " 'JM': 'Jamaica',\n",
       " 'JO': 'Jordan',\n",
       " 'JP': 'Japan',\n",
       " 'KE': 'Kenya',\n",
       " 'KG': 'Kyrgyzstan',\n",
       " 'KH': 'Cambodia',\n",
       " 'KI': 'Kiribati',\n",
       " 'KM': 'Comoros',\n",
       " 'KN': 'Saint Kitts and Nevis',\n",
       " 'KP': \"Korea, Democratic People's Republic of\",\n",
       " 'KR': 'Korea, Republic of',\n",
       " 'KW': 'Kuwait',\n",
       " 'KY': 'Cayman Islands',\n",
       " 'KZ': 'Kazakhstan',\n",
       " 'LA': \"Lao People's Democratic Republic\",\n",
       " 'LB': 'Lebanon',\n",
       " 'LC': 'Saint Lucia',\n",
       " 'LI': 'Liechtenstein',\n",
       " 'LK': 'Sri Lanka',\n",
       " 'LR': 'Liberia',\n",
       " 'LS': 'Lesotho',\n",
       " 'LT': 'Lithuania',\n",
       " 'LU': 'Luxembourg',\n",
       " 'LV': 'Latvia',\n",
       " 'LY': 'Libyan Arab Jamahiriya',\n",
       " 'MA': 'Morocco',\n",
       " 'MC': 'Monaco',\n",
       " 'MD': 'Moldova, Republic of',\n",
       " 'ME': 'Montenegro',\n",
       " 'MF': 'Saint Martin',\n",
       " 'MG': 'Madagascar',\n",
       " 'MH': 'Marshall Islands',\n",
       " 'MK': 'Macedonia',\n",
       " 'ML': 'Mali',\n",
       " 'MM': 'Myanmar',\n",
       " 'MN': 'Mongolia',\n",
       " 'MO': 'Macao',\n",
       " 'MP': 'Northern Mariana Islands',\n",
       " 'MQ': 'Martinique',\n",
       " 'MR': 'Mauritania',\n",
       " 'MS': 'Montserrat',\n",
       " 'MT': 'Malta',\n",
       " 'MU': 'Mauritius',\n",
       " 'MV': 'Maldives',\n",
       " 'MW': 'Malawi',\n",
       " 'MX': 'Mexico',\n",
       " 'MY': 'Malaysia',\n",
       " 'MZ': 'Mozambique',\n",
       " 'NC': 'New Caledonia',\n",
       " 'NE': 'Niger',\n",
       " 'NF': 'Norfolk Island',\n",
       " 'NG': 'Nigeria',\n",
       " 'NI': 'Nicaragua',\n",
       " 'NL': 'Netherlands',\n",
       " 'NO': 'Norway',\n",
       " 'NP': 'Nepal',\n",
       " 'NR': 'Nauru',\n",
       " 'NU': 'Niue',\n",
       " 'NZ': 'New Zealand',\n",
       " 'O1': 'Other Country',\n",
       " 'OM': 'Oman',\n",
       " 'PA': 'Panama',\n",
       " 'PE': 'Peru',\n",
       " 'PF': 'French Polynesia',\n",
       " 'PG': 'Papua New Guinea',\n",
       " 'PH': 'Philippines',\n",
       " 'PK': 'Pakistan',\n",
       " 'PL': 'Poland',\n",
       " 'PM': 'Saint Pierre and Miquelon',\n",
       " 'PN': 'Pitcairn',\n",
       " 'PR': 'Puerto Rico',\n",
       " 'PS': 'Palestinian Territory',\n",
       " 'PT': 'Portugal',\n",
       " 'PW': 'Palau',\n",
       " 'PY': 'Paraguay',\n",
       " 'QA': 'Qatar',\n",
       " 'RE': 'Reunion',\n",
       " 'RO': 'Romania',\n",
       " 'RS': 'Serbia',\n",
       " 'RU': 'Russian Federation',\n",
       " 'RW': 'Rwanda',\n",
       " 'SA': 'Saudi Arabia',\n",
       " 'SB': 'Solomon Islands',\n",
       " 'SC': 'Seychelles',\n",
       " 'SD': 'Sudan',\n",
       " 'SE': 'Sweden',\n",
       " 'SG': 'Singapore',\n",
       " 'SH': 'Saint Helena',\n",
       " 'SI': 'Slovenia',\n",
       " 'SJ': 'Svalbard and Jan Mayen',\n",
       " 'SK': 'Slovakia',\n",
       " 'SL': 'Sierra Leone',\n",
       " 'SM': 'San Marino',\n",
       " 'SN': 'Senegal',\n",
       " 'SO': 'Somalia',\n",
       " 'SR': 'Suriname',\n",
       " 'SS': 'South Sudan',\n",
       " 'ST': 'Sao Tome and Principe',\n",
       " 'SV': 'El Salvador',\n",
       " 'SX': 'Sint Maarten',\n",
       " 'SY': 'Syrian Arab Republic',\n",
       " 'SZ': 'Swaziland',\n",
       " 'TC': 'Turks and Caicos Islands',\n",
       " 'TD': 'Chad',\n",
       " 'TF': 'French Southern Territories',\n",
       " 'TG': 'Togo',\n",
       " 'TH': 'Thailand',\n",
       " 'TJ': 'Tajikistan',\n",
       " 'TK': 'Tokelau',\n",
       " 'TL': 'Timor-Leste',\n",
       " 'TM': 'Turkmenistan',\n",
       " 'TN': 'Tunisia',\n",
       " 'TO': 'Tonga',\n",
       " 'TR': 'Turkey',\n",
       " 'TT': 'Trinidad and Tobago',\n",
       " 'TV': 'Tuvalu',\n",
       " 'TW': 'Taiwan',\n",
       " 'TZ': 'Tanzania, United Republic of',\n",
       " 'UA': 'Ukraine',\n",
       " 'UG': 'Uganda',\n",
       " 'UM': 'United States Minor Outlying Islands',\n",
       " 'US': 'United States',\n",
       " 'UY': 'Uruguay',\n",
       " 'UZ': 'Uzbekistan',\n",
       " 'VA': 'Holy See (Vatican City State)',\n",
       " 'VC': 'Saint Vincent and the Grenadines',\n",
       " 'VE': 'Venezuela',\n",
       " 'VG': 'Virgin Islands, British',\n",
       " 'VI': 'Virgin Islands, U.S.',\n",
       " 'VN': 'Vietnam',\n",
       " 'VU': 'Vanuatu',\n",
       " 'WF': 'Wallis and Futuna',\n",
       " 'WS': 'Samoa',\n",
       " 'YE': 'Yemen',\n",
       " 'YT': 'Mayotte',\n",
       " 'ZA': 'South Africa',\n",
       " 'ZM': 'Zambia',\n",
       " 'ZW': 'Zimbabwe'}"
      ]
     },
     "execution_count": 47,
     "metadata": {},
     "output_type": "execute_result"
    }
   ],
   "source": [
    "country_dict"
   ]
  },
  {
   "cell_type": "code",
   "execution_count": 48,
   "metadata": {
    "collapsed": false
   },
   "outputs": [],
   "source": [
    "data['country_name'] = data['country'].apply(lambda x: country_dict[x])    #trait_pre1.applymap(lambda x: change_trait(x))"
   ]
  },
  {
   "cell_type": "markdown",
   "metadata": {},
   "source": [
    "Pulling Factors Function:"
   ]
  },
  {
   "cell_type": "code",
   "execution_count": 49,
   "metadata": {
    "collapsed": false
   },
   "outputs": [],
   "source": [
    "questions_dict = {}\n",
    "for i in questions.iterrows():\n",
    "    questions_dict[i[1][1].lower()] = i[1][2]"
   ]
  },
  {
   "cell_type": "code",
   "execution_count": 50,
   "metadata": {
    "collapsed": false
   },
   "outputs": [
    {
     "data": {
      "text/plain": [
       "{'abstractedness': 'J',\n",
       " 'apprehension': 'L',\n",
       " 'dominance': 'D',\n",
       " 'emotional stability': 'C',\n",
       " 'liveliness': 'E',\n",
       " 'openness to change': 'M',\n",
       " 'perfectionism': 'O',\n",
       " 'privateness': 'K',\n",
       " 'reasoning': 'B',\n",
       " 'rule-consciousness': 'F',\n",
       " 'self-reliance': 'N',\n",
       " 'sensitivity': 'H',\n",
       " 'social boldness': 'G',\n",
       " 'tension': 'P',\n",
       " 'vigilance': 'I',\n",
       " 'warmth': 'A'}"
      ]
     },
     "execution_count": 50,
     "metadata": {},
     "output_type": "execute_result"
    }
   ],
   "source": [
    "questions_dict"
   ]
  },
  {
   "cell_type": "code",
   "execution_count": 51,
   "metadata": {
    "collapsed": false
   },
   "outputs": [],
   "source": [
    "def pull_factors(df, col_name):\n",
    "    len_ = len(col_name)\n",
    "    check_value = questions_dict[col_name.lower()] if len_ > 1 else col_name\n",
    "    good_cols = [col for col in df.columns if col[0] == check_value]\n",
    "    return df[good_cols]"
   ]
  },
  {
   "cell_type": "code",
   "execution_count": 52,
   "metadata": {
    "collapsed": false
   },
   "outputs": [
    {
     "data": {
      "text/html": [
       "<div>\n",
       "<table border=\"1\" class=\"dataframe\">\n",
       "  <thead>\n",
       "    <tr style=\"text-align: right;\">\n",
       "      <th></th>\n",
       "      <th>A1</th>\n",
       "      <th>A2</th>\n",
       "      <th>A3</th>\n",
       "      <th>A4</th>\n",
       "      <th>A5</th>\n",
       "      <th>A6</th>\n",
       "      <th>A7</th>\n",
       "      <th>A8</th>\n",
       "      <th>A9</th>\n",
       "      <th>A10</th>\n",
       "    </tr>\n",
       "  </thead>\n",
       "  <tbody>\n",
       "    <tr>\n",
       "      <th>0</th>\n",
       "      <td>1</td>\n",
       "      <td>4</td>\n",
       "      <td>2</td>\n",
       "      <td>3</td>\n",
       "      <td>3</td>\n",
       "      <td>2</td>\n",
       "      <td>3</td>\n",
       "      <td>4</td>\n",
       "      <td>4</td>\n",
       "      <td>3</td>\n",
       "    </tr>\n",
       "    <tr>\n",
       "      <th>1</th>\n",
       "      <td>4</td>\n",
       "      <td>3</td>\n",
       "      <td>4</td>\n",
       "      <td>3</td>\n",
       "      <td>4</td>\n",
       "      <td>4</td>\n",
       "      <td>4</td>\n",
       "      <td>4</td>\n",
       "      <td>2</td>\n",
       "      <td>2</td>\n",
       "    </tr>\n",
       "    <tr>\n",
       "      <th>2</th>\n",
       "      <td>3</td>\n",
       "      <td>4</td>\n",
       "      <td>4</td>\n",
       "      <td>4</td>\n",
       "      <td>4</td>\n",
       "      <td>4</td>\n",
       "      <td>4</td>\n",
       "      <td>3</td>\n",
       "      <td>2</td>\n",
       "      <td>2</td>\n",
       "    </tr>\n",
       "    <tr>\n",
       "      <th>3</th>\n",
       "      <td>4</td>\n",
       "      <td>5</td>\n",
       "      <td>4</td>\n",
       "      <td>4</td>\n",
       "      <td>4</td>\n",
       "      <td>3</td>\n",
       "      <td>3</td>\n",
       "      <td>2</td>\n",
       "      <td>2</td>\n",
       "      <td>2</td>\n",
       "    </tr>\n",
       "    <tr>\n",
       "      <th>4</th>\n",
       "      <td>4</td>\n",
       "      <td>0</td>\n",
       "      <td>4</td>\n",
       "      <td>4</td>\n",
       "      <td>4</td>\n",
       "      <td>3</td>\n",
       "      <td>5</td>\n",
       "      <td>1</td>\n",
       "      <td>2</td>\n",
       "      <td>4</td>\n",
       "    </tr>\n",
       "  </tbody>\n",
       "</table>\n",
       "</div>"
      ],
      "text/plain": [
       "   A1  A2  A3  A4  A5  A6  A7  A8  A9  A10\n",
       "0   1   4   2   3   3   2   3   4   4    3\n",
       "1   4   3   4   3   4   4   4   4   2    2\n",
       "2   3   4   4   4   4   4   4   3   2    2\n",
       "3   4   5   4   4   4   3   3   2   2    2\n",
       "4   4   0   4   4   4   3   5   1   2    4"
      ]
     },
     "execution_count": 52,
     "metadata": {},
     "output_type": "execute_result"
    }
   ],
   "source": [
    "pull_factors(data, \"A\").head()"
   ]
  },
  {
   "cell_type": "code",
   "execution_count": null,
   "metadata": {
    "collapsed": false
   },
   "outputs": [],
   "source": []
  },
  {
   "cell_type": "code",
   "execution_count": 53,
   "metadata": {
    "collapsed": false
   },
   "outputs": [
    {
     "data": {
      "text/plain": [
       "Index([u'L8', u'L9', u'L10', u'M1', u'M2', u'M3', u'M4', u'M5', u'M6', u'M7',\n",
       "       u'M8', u'M9', u'M10', u'N1', u'N2', u'N3', u'N4', u'N5', u'N6', u'N7',\n",
       "       u'N8', u'N9', u'N10', u'O1', u'O2', u'O3', u'O4', u'O5', u'O6', u'O7',\n",
       "       u'O8', u'O9', u'O10', u'P1', u'P2', u'P3', u'P4', u'P5', u'P6', u'P7'],\n",
       "      dtype='object')"
      ]
     },
     "execution_count": 53,
     "metadata": {},
     "output_type": "execute_result"
    }
   ],
   "source": [
    "data.columns[120:160]"
   ]
  },
  {
   "cell_type": "code",
   "execution_count": 55,
   "metadata": {
    "collapsed": false
   },
   "outputs": [
    {
     "data": {
      "text/plain": [
       "'\\nfactors_ = {questions.values}\\nfor key, value in questions_dict:\\n    i = pull_factors(data, key)\\n# make a dictionary of dataframes    \\n'"
      ]
     },
     "execution_count": 55,
     "metadata": {},
     "output_type": "execute_result"
    }
   ],
   "source": [
    "'''\n",
    "factors_ = {questions.values}\n",
    "for key, value in questions_dict:\n",
    "    i = pull_factors(data, key)\n",
    "# make a dictionary of dataframes    \n",
    "'''"
   ]
  },
  {
   "cell_type": "code",
   "execution_count": 56,
   "metadata": {
    "collapsed": false
   },
   "outputs": [],
   "source": [
    "A = pull_factors(data, \"A\")"
   ]
  },
  {
   "cell_type": "code",
   "execution_count": 57,
   "metadata": {
    "collapsed": false
   },
   "outputs": [
    {
     "data": {
      "text/html": [
       "<div>\n",
       "<table border=\"1\" class=\"dataframe\">\n",
       "  <thead>\n",
       "    <tr style=\"text-align: right;\">\n",
       "      <th></th>\n",
       "      <th>A1</th>\n",
       "      <th>A2</th>\n",
       "      <th>A3</th>\n",
       "      <th>A4</th>\n",
       "      <th>A5</th>\n",
       "      <th>A6</th>\n",
       "      <th>A7</th>\n",
       "      <th>A8</th>\n",
       "      <th>A9</th>\n",
       "      <th>A10</th>\n",
       "    </tr>\n",
       "  </thead>\n",
       "  <tbody>\n",
       "    <tr>\n",
       "      <th>0</th>\n",
       "      <td>1</td>\n",
       "      <td>4</td>\n",
       "      <td>2</td>\n",
       "      <td>3</td>\n",
       "      <td>3</td>\n",
       "      <td>2</td>\n",
       "      <td>3</td>\n",
       "      <td>4</td>\n",
       "      <td>4</td>\n",
       "      <td>3</td>\n",
       "    </tr>\n",
       "    <tr>\n",
       "      <th>1</th>\n",
       "      <td>4</td>\n",
       "      <td>3</td>\n",
       "      <td>4</td>\n",
       "      <td>3</td>\n",
       "      <td>4</td>\n",
       "      <td>4</td>\n",
       "      <td>4</td>\n",
       "      <td>4</td>\n",
       "      <td>2</td>\n",
       "      <td>2</td>\n",
       "    </tr>\n",
       "    <tr>\n",
       "      <th>2</th>\n",
       "      <td>3</td>\n",
       "      <td>4</td>\n",
       "      <td>4</td>\n",
       "      <td>4</td>\n",
       "      <td>4</td>\n",
       "      <td>4</td>\n",
       "      <td>4</td>\n",
       "      <td>3</td>\n",
       "      <td>2</td>\n",
       "      <td>2</td>\n",
       "    </tr>\n",
       "    <tr>\n",
       "      <th>3</th>\n",
       "      <td>4</td>\n",
       "      <td>5</td>\n",
       "      <td>4</td>\n",
       "      <td>4</td>\n",
       "      <td>4</td>\n",
       "      <td>3</td>\n",
       "      <td>3</td>\n",
       "      <td>2</td>\n",
       "      <td>2</td>\n",
       "      <td>2</td>\n",
       "    </tr>\n",
       "    <tr>\n",
       "      <th>4</th>\n",
       "      <td>4</td>\n",
       "      <td>0</td>\n",
       "      <td>4</td>\n",
       "      <td>4</td>\n",
       "      <td>4</td>\n",
       "      <td>3</td>\n",
       "      <td>5</td>\n",
       "      <td>1</td>\n",
       "      <td>2</td>\n",
       "      <td>4</td>\n",
       "    </tr>\n",
       "  </tbody>\n",
       "</table>\n",
       "</div>"
      ],
      "text/plain": [
       "   A1  A2  A3  A4  A5  A6  A7  A8  A9  A10\n",
       "0   1   4   2   3   3   2   3   4   4    3\n",
       "1   4   3   4   3   4   4   4   4   2    2\n",
       "2   3   4   4   4   4   4   4   3   2    2\n",
       "3   4   5   4   4   4   3   3   2   2    2\n",
       "4   4   0   4   4   4   3   5   1   2    4"
      ]
     },
     "execution_count": 57,
     "metadata": {},
     "output_type": "execute_result"
    }
   ],
   "source": [
    "A.head()"
   ]
  },
  {
   "cell_type": "code",
   "execution_count": 58,
   "metadata": {
    "collapsed": false
   },
   "outputs": [
    {
     "data": {
      "text/plain": [
       "0        29\n",
       "1        34\n",
       "2        34\n",
       "3        33\n",
       "4        31\n",
       "5        36\n",
       "6        31\n",
       "7        36\n",
       "8        35\n",
       "9        36\n",
       "10       43\n",
       "11       38\n",
       "12       38\n",
       "13       36\n",
       "14       29\n",
       "15       35\n",
       "16       42\n",
       "17       35\n",
       "18       36\n",
       "19       36\n",
       "20       37\n",
       "21       33\n",
       "22       32\n",
       "23       36\n",
       "24       37\n",
       "25       29\n",
       "26       35\n",
       "27       33\n",
       "28       36\n",
       "29       46\n",
       "         ..\n",
       "49129    35\n",
       "49130    36\n",
       "49131    37\n",
       "49132    37\n",
       "49133    34\n",
       "49134    32\n",
       "49135    34\n",
       "49136    36\n",
       "49137    28\n",
       "49138    34\n",
       "49139    32\n",
       "49140    32\n",
       "49141    40\n",
       "49142    26\n",
       "49143    37\n",
       "49144    32\n",
       "49145    35\n",
       "49146    34\n",
       "49147    32\n",
       "49148    37\n",
       "49149    28\n",
       "49150    26\n",
       "49151    38\n",
       "49152    34\n",
       "49153    34\n",
       "49154    10\n",
       "49155    37\n",
       "49156    31\n",
       "49157    36\n",
       "49158    38\n",
       "dtype: int64"
      ]
     },
     "execution_count": 58,
     "metadata": {},
     "output_type": "execute_result"
    }
   ],
   "source": [
    "pull_factors(data,\"A\").sum(axis = 1)"
   ]
  },
  {
   "cell_type": "code",
   "execution_count": 59,
   "metadata": {
    "collapsed": false
   },
   "outputs": [
    {
     "data": {
      "text/html": [
       "<div>\n",
       "<table border=\"1\" class=\"dataframe\">\n",
       "  <thead>\n",
       "    <tr style=\"text-align: right;\">\n",
       "      <th></th>\n",
       "      <th>Description</th>\n",
       "      <th>Trait</th>\n",
       "      <th>Trait_Letter</th>\n",
       "    </tr>\n",
       "    <tr>\n",
       "      <th>Field</th>\n",
       "      <th></th>\n",
       "      <th></th>\n",
       "      <th></th>\n",
       "    </tr>\n",
       "  </thead>\n",
       "  <tbody>\n",
       "    <tr>\n",
       "      <th>A1</th>\n",
       "      <td>I know how to comfort others</td>\n",
       "      <td>Warmth</td>\n",
       "      <td>A</td>\n",
       "    </tr>\n",
       "    <tr>\n",
       "      <th>A2</th>\n",
       "      <td>I enjoy bringing people together</td>\n",
       "      <td>Warmth</td>\n",
       "      <td>A</td>\n",
       "    </tr>\n",
       "    <tr>\n",
       "      <th>A3</th>\n",
       "      <td>I feel others' emotions</td>\n",
       "      <td>Warmth</td>\n",
       "      <td>A</td>\n",
       "    </tr>\n",
       "    <tr>\n",
       "      <th>A4</th>\n",
       "      <td>I take an interest in other people's lives</td>\n",
       "      <td>Warmth</td>\n",
       "      <td>A</td>\n",
       "    </tr>\n",
       "    <tr>\n",
       "      <th>A5</th>\n",
       "      <td>I cheer people up</td>\n",
       "      <td>Warmth</td>\n",
       "      <td>A</td>\n",
       "    </tr>\n",
       "    <tr>\n",
       "      <th>A6</th>\n",
       "      <td>I make people feel at ease</td>\n",
       "      <td>Warmth</td>\n",
       "      <td>A</td>\n",
       "    </tr>\n",
       "    <tr>\n",
       "      <th>A7</th>\n",
       "      <td>I take time out for others</td>\n",
       "      <td>Warmth</td>\n",
       "      <td>A</td>\n",
       "    </tr>\n",
       "    <tr>\n",
       "      <th>A8</th>\n",
       "      <td>I don't like to get involved in other people's...</td>\n",
       "      <td>Warmth</td>\n",
       "      <td>A</td>\n",
       "    </tr>\n",
       "    <tr>\n",
       "      <th>A9</th>\n",
       "      <td>I am not really interested in others</td>\n",
       "      <td>Warmth</td>\n",
       "      <td>A</td>\n",
       "    </tr>\n",
       "    <tr>\n",
       "      <th>A10</th>\n",
       "      <td>I try not to think about the needy</td>\n",
       "      <td>Warmth</td>\n",
       "      <td>A</td>\n",
       "    </tr>\n",
       "  </tbody>\n",
       "</table>\n",
       "</div>"
      ],
      "text/plain": [
       "                                             Description   Trait Trait_Letter\n",
       "Field                                                                        \n",
       "A1                          I know how to comfort others  Warmth            A\n",
       "A2                      I enjoy bringing people together  Warmth            A\n",
       "A3                               I feel others' emotions  Warmth            A\n",
       "A4            I take an interest in other people's lives  Warmth            A\n",
       "A5                                     I cheer people up  Warmth            A\n",
       "A6                            I make people feel at ease  Warmth            A\n",
       "A7                            I take time out for others  Warmth            A\n",
       "A8     I don't like to get involved in other people's...  Warmth            A\n",
       "A9                  I am not really interested in others  Warmth            A\n",
       "A10                   I try not to think about the needy  Warmth            A"
      ]
     },
     "execution_count": 59,
     "metadata": {},
     "output_type": "execute_result"
    }
   ],
   "source": [
    "questions[questions['Trait_Letter'] == \"A\"]"
   ]
  },
  {
   "cell_type": "code",
   "execution_count": 60,
   "metadata": {
    "collapsed": true
   },
   "outputs": [],
   "source": [
    "def cronbach(itemscores):\n",
    "    itemvars = itemscores.var(axis=1, ddof=1)\n",
    "    tscores = itemscores.sum(axis=0)\n",
    "    nitems = len(itemscores)\n",
    "    return nitems / (nitems-1) * (1 - itemvars.sum() / tscores.var(ddof=1))"
   ]
  },
  {
   "cell_type": "code",
   "execution_count": 61,
   "metadata": {
    "collapsed": true
   },
   "outputs": [],
   "source": [
    "def CronbachAlpha(itemscores):\n",
    "    itemscores = numpy.asarray(itemscores)\n",
    "    itemvars = itemscores.var(axis=1, ddof=1)\n",
    "    tscores = itemscores.sum(axis=0)\n",
    "    nitems = len(itemscores)\n",
    "    return nitems / (nitems-1.) * (1 - itemvars.sum() / tscores.var(ddof=1))"
   ]
  },
  {
   "cell_type": "code",
   "execution_count": 62,
   "metadata": {
    "collapsed": false
   },
   "outputs": [
    {
     "ename": "NameError",
     "evalue": "global name 'numpy' is not defined",
     "output_type": "error",
     "traceback": [
      "\u001b[0;31m---------------------------------------------------------------------------\u001b[0m",
      "\u001b[0;31mNameError\u001b[0m                                 Traceback (most recent call last)",
      "\u001b[0;32m<ipython-input-62-c65243c6ec7e>\u001b[0m in \u001b[0;36m<module>\u001b[0;34m()\u001b[0m\n\u001b[0;32m----> 1\u001b[0;31m \u001b[0mCronbachAlpha\u001b[0m\u001b[0;34m(\u001b[0m\u001b[0mA\u001b[0m\u001b[0;34m)\u001b[0m\u001b[0;34m\u001b[0m\u001b[0m\n\u001b[0m",
      "\u001b[0;32m<ipython-input-61-309739710379>\u001b[0m in \u001b[0;36mCronbachAlpha\u001b[0;34m(itemscores)\u001b[0m\n\u001b[1;32m      1\u001b[0m \u001b[0;32mdef\u001b[0m \u001b[0mCronbachAlpha\u001b[0m\u001b[0;34m(\u001b[0m\u001b[0mitemscores\u001b[0m\u001b[0;34m)\u001b[0m\u001b[0;34m:\u001b[0m\u001b[0;34m\u001b[0m\u001b[0m\n\u001b[0;32m----> 2\u001b[0;31m     \u001b[0mitemscores\u001b[0m \u001b[0;34m=\u001b[0m \u001b[0mnumpy\u001b[0m\u001b[0;34m.\u001b[0m\u001b[0masarray\u001b[0m\u001b[0;34m(\u001b[0m\u001b[0mitemscores\u001b[0m\u001b[0;34m)\u001b[0m\u001b[0;34m\u001b[0m\u001b[0m\n\u001b[0m\u001b[1;32m      3\u001b[0m     \u001b[0mitemvars\u001b[0m \u001b[0;34m=\u001b[0m \u001b[0mitemscores\u001b[0m\u001b[0;34m.\u001b[0m\u001b[0mvar\u001b[0m\u001b[0;34m(\u001b[0m\u001b[0maxis\u001b[0m\u001b[0;34m=\u001b[0m\u001b[0;36m1\u001b[0m\u001b[0;34m,\u001b[0m \u001b[0mddof\u001b[0m\u001b[0;34m=\u001b[0m\u001b[0;36m1\u001b[0m\u001b[0;34m)\u001b[0m\u001b[0;34m\u001b[0m\u001b[0m\n\u001b[1;32m      4\u001b[0m     \u001b[0mtscores\u001b[0m \u001b[0;34m=\u001b[0m \u001b[0mitemscores\u001b[0m\u001b[0;34m.\u001b[0m\u001b[0msum\u001b[0m\u001b[0;34m(\u001b[0m\u001b[0maxis\u001b[0m\u001b[0;34m=\u001b[0m\u001b[0;36m0\u001b[0m\u001b[0;34m)\u001b[0m\u001b[0;34m\u001b[0m\u001b[0m\n\u001b[1;32m      5\u001b[0m     \u001b[0mnitems\u001b[0m \u001b[0;34m=\u001b[0m \u001b[0mlen\u001b[0m\u001b[0;34m(\u001b[0m\u001b[0mitemscores\u001b[0m\u001b[0;34m)\u001b[0m\u001b[0;34m\u001b[0m\u001b[0m\n",
      "\u001b[0;31mNameError\u001b[0m: global name 'numpy' is not defined"
     ]
    }
   ],
   "source": []
  },
  {
   "cell_type": "code",
   "execution_count": 210,
   "metadata": {
    "collapsed": false
   },
   "outputs": [
    {
     "data": {
      "text/plain": [
       "United States                        23988\n",
       "United Kingdom                        5056\n",
       "India                                 3259\n",
       "Canada                                2647\n",
       "Australia                             2539\n",
       "Philippines                           2069\n",
       "Singapore                              466\n",
       "Malaysia                               405\n",
       "Ireland                                397\n",
       "Sweden                                 394\n",
       "Germany                                358\n",
       "South Africa                           357\n",
       "Indonesia                              348\n",
       "New Zealand                            318\n",
       "Finland                                292\n",
       "France                                 284\n",
       "Netherlands                            267\n",
       "Norway                                 263\n",
       "Italy                                  253\n",
       "Pakistan                               243\n",
       "Mexico                                 240\n",
       "Hong Kong                              229\n",
       "United Arab Emirates                   220\n",
       "Greece                                 206\n",
       "Romania                                205\n",
       "Poland                                 189\n",
       "Spain                                  184\n",
       "Brazil                                 170\n",
       "China                                  155\n",
       "Turkey                                 152\n",
       "                                     ...  \n",
       "Lesotho                                  2\n",
       "Cayman Islands                           2\n",
       "Ethiopia                                 2\n",
       "Mongolia                                 2\n",
       "Montenegro                               2\n",
       "Reunion                                  1\n",
       "Cameroon                                 1\n",
       "Bonaire, Saint Eustatius and Saba        1\n",
       "Seychelles                               1\n",
       "Falkland Islands (Malvinas)              1\n",
       "American Samoa                           1\n",
       "Belize                                   1\n",
       "Paraguay                                 1\n",
       "Aruba                                    1\n",
       "Antigua and Barbuda                      1\n",
       "Holy See (Vatican City State)            1\n",
       "France, Metropolitan                     1\n",
       "Angola                                   1\n",
       "Senegal                                  1\n",
       "Iraq                                     1\n",
       "Tajikistan                               1\n",
       "Nicaragua                                1\n",
       "Maldives                                 1\n",
       "Armenia                                  1\n",
       "Fiji                                     1\n",
       "Andorra                                  1\n",
       "Suriname                                 1\n",
       "Virgin Islands, British                  1\n",
       "Martinique                               1\n",
       "Swaziland                                1\n",
       "Name: country_name, dtype: int64"
      ]
     },
     "execution_count": 210,
     "metadata": {},
     "output_type": "execute_result"
    }
   ],
   "source": [
    "# around 35 countries have atleast 100 responses to the survey for that country\n",
    "# consider grouping by \n",
    "country_counts = data['country_name'].value_counts()\n",
    "country_counts"
   ]
  },
  {
   "cell_type": "code",
   "execution_count": 64,
   "metadata": {
    "collapsed": false
   },
   "outputs": [
    {
     "data": {
      "text/html": [
       "<div>\n",
       "<table border=\"1\" class=\"dataframe\">\n",
       "  <thead>\n",
       "    <tr style=\"text-align: right;\">\n",
       "      <th></th>\n",
       "      <th>A1</th>\n",
       "      <th>A2</th>\n",
       "      <th>A3</th>\n",
       "      <th>A4</th>\n",
       "      <th>A5</th>\n",
       "      <th>A6</th>\n",
       "      <th>A7</th>\n",
       "      <th>A8</th>\n",
       "      <th>A9</th>\n",
       "      <th>A10</th>\n",
       "      <th>...</th>\n",
       "      <th>P8</th>\n",
       "      <th>P9</th>\n",
       "      <th>P10</th>\n",
       "      <th>age</th>\n",
       "      <th>gender</th>\n",
       "      <th>accuracy</th>\n",
       "      <th>country</th>\n",
       "      <th>source</th>\n",
       "      <th>elapsed</th>\n",
       "      <th>country_name</th>\n",
       "    </tr>\n",
       "  </thead>\n",
       "  <tbody>\n",
       "    <tr>\n",
       "      <th>0</th>\n",
       "      <td>1</td>\n",
       "      <td>4</td>\n",
       "      <td>2</td>\n",
       "      <td>3</td>\n",
       "      <td>3</td>\n",
       "      <td>2</td>\n",
       "      <td>3</td>\n",
       "      <td>4</td>\n",
       "      <td>4</td>\n",
       "      <td>3</td>\n",
       "      <td>...</td>\n",
       "      <td>2</td>\n",
       "      <td>5</td>\n",
       "      <td>2</td>\n",
       "      <td>17</td>\n",
       "      <td>1</td>\n",
       "      <td>92</td>\n",
       "      <td>US</td>\n",
       "      <td>6</td>\n",
       "      <td>914</td>\n",
       "      <td>United States</td>\n",
       "    </tr>\n",
       "    <tr>\n",
       "      <th>1</th>\n",
       "      <td>4</td>\n",
       "      <td>3</td>\n",
       "      <td>4</td>\n",
       "      <td>3</td>\n",
       "      <td>4</td>\n",
       "      <td>4</td>\n",
       "      <td>4</td>\n",
       "      <td>4</td>\n",
       "      <td>2</td>\n",
       "      <td>2</td>\n",
       "      <td>...</td>\n",
       "      <td>2</td>\n",
       "      <td>2</td>\n",
       "      <td>2</td>\n",
       "      <td>37</td>\n",
       "      <td>1</td>\n",
       "      <td>100</td>\n",
       "      <td>US</td>\n",
       "      <td>1</td>\n",
       "      <td>891</td>\n",
       "      <td>United States</td>\n",
       "    </tr>\n",
       "    <tr>\n",
       "      <th>2</th>\n",
       "      <td>3</td>\n",
       "      <td>4</td>\n",
       "      <td>4</td>\n",
       "      <td>4</td>\n",
       "      <td>4</td>\n",
       "      <td>4</td>\n",
       "      <td>4</td>\n",
       "      <td>3</td>\n",
       "      <td>2</td>\n",
       "      <td>2</td>\n",
       "      <td>...</td>\n",
       "      <td>3</td>\n",
       "      <td>3</td>\n",
       "      <td>3</td>\n",
       "      <td>31</td>\n",
       "      <td>1</td>\n",
       "      <td>80</td>\n",
       "      <td>US</td>\n",
       "      <td>6</td>\n",
       "      <td>903</td>\n",
       "      <td>United States</td>\n",
       "    </tr>\n",
       "    <tr>\n",
       "      <th>3</th>\n",
       "      <td>4</td>\n",
       "      <td>5</td>\n",
       "      <td>4</td>\n",
       "      <td>4</td>\n",
       "      <td>4</td>\n",
       "      <td>3</td>\n",
       "      <td>3</td>\n",
       "      <td>2</td>\n",
       "      <td>2</td>\n",
       "      <td>2</td>\n",
       "      <td>...</td>\n",
       "      <td>3</td>\n",
       "      <td>4</td>\n",
       "      <td>4</td>\n",
       "      <td>32</td>\n",
       "      <td>1</td>\n",
       "      <td>93</td>\n",
       "      <td>US</td>\n",
       "      <td>1</td>\n",
       "      <td>806</td>\n",
       "      <td>United States</td>\n",
       "    </tr>\n",
       "    <tr>\n",
       "      <th>4</th>\n",
       "      <td>4</td>\n",
       "      <td>0</td>\n",
       "      <td>4</td>\n",
       "      <td>4</td>\n",
       "      <td>4</td>\n",
       "      <td>3</td>\n",
       "      <td>5</td>\n",
       "      <td>1</td>\n",
       "      <td>2</td>\n",
       "      <td>4</td>\n",
       "      <td>...</td>\n",
       "      <td>2</td>\n",
       "      <td>3</td>\n",
       "      <td>2</td>\n",
       "      <td>46</td>\n",
       "      <td>2</td>\n",
       "      <td>87</td>\n",
       "      <td>NZ</td>\n",
       "      <td>1</td>\n",
       "      <td>1826</td>\n",
       "      <td>New Zealand</td>\n",
       "    </tr>\n",
       "  </tbody>\n",
       "</table>\n",
       "<p>5 rows × 170 columns</p>\n",
       "</div>"
      ],
      "text/plain": [
       "   A1  A2  A3  A4  A5  A6  A7  A8  A9  A10      ...        P8  P9  P10  age  \\\n",
       "0   1   4   2   3   3   2   3   4   4    3      ...         2   5    2   17   \n",
       "1   4   3   4   3   4   4   4   4   2    2      ...         2   2    2   37   \n",
       "2   3   4   4   4   4   4   4   3   2    2      ...         3   3    3   31   \n",
       "3   4   5   4   4   4   3   3   2   2    2      ...         3   4    4   32   \n",
       "4   4   0   4   4   4   3   5   1   2    4      ...         2   3    2   46   \n",
       "\n",
       "   gender  accuracy  country  source  elapsed   country_name  \n",
       "0       1        92       US       6      914  United States  \n",
       "1       1       100       US       1      891  United States  \n",
       "2       1        80       US       6      903  United States  \n",
       "3       1        93       US       1      806  United States  \n",
       "4       2        87       NZ       1     1826    New Zealand  \n",
       "\n",
       "[5 rows x 170 columns]"
      ]
     },
     "execution_count": 64,
     "metadata": {},
     "output_type": "execute_result"
    }
   ],
   "source": [
    "data.head()"
   ]
  },
  {
   "cell_type": "code",
   "execution_count": 65,
   "metadata": {
    "collapsed": false
   },
   "outputs": [],
   "source": [
    "age_counts = data['age'].value_counts()\n"
   ]
  },
  {
   "cell_type": "code",
   "execution_count": 212,
   "metadata": {
    "collapsed": false,
    "scrolled": true
   },
   "outputs": [
    {
     "data": {
      "text/plain": [
       "17       5603\n",
       "18       4686\n",
       "16       3671\n",
       "19       3343\n",
       "20       3049\n",
       "21       2707\n",
       "22       2199\n",
       "23       1951\n",
       "15       1568\n",
       "24       1500\n",
       "25       1399\n",
       "26       1178\n",
       "27       1033\n",
       "28        975\n",
       "30        922\n",
       "29        820\n",
       "14        794\n",
       "32        764\n",
       "31        693\n",
       "33        669\n",
       "34        597\n",
       "35        594\n",
       "38        471\n",
       "37        470\n",
       "36        469\n",
       "40        464\n",
       "42        453\n",
       "41        406\n",
       "39        404\n",
       "45        370\n",
       "         ... \n",
       "84          1\n",
       "212         1\n",
       "244         1\n",
       "1780        1\n",
       "568         1\n",
       "181         1\n",
       "118         1\n",
       "87          1\n",
       "2000        1\n",
       "5490        1\n",
       "5480        1\n",
       "2395        1\n",
       "92          1\n",
       "2250        1\n",
       "363         1\n",
       "459         1\n",
       "587         1\n",
       "4010        1\n",
       "1995        1\n",
       "3789        1\n",
       "5998        1\n",
       "411         1\n",
       "141         1\n",
       "9001        1\n",
       "251         1\n",
       "78          1\n",
       "3675        1\n",
       "24100       1\n",
       "1775        1\n",
       "9000        1\n",
       "Name: age, dtype: int64"
      ]
     },
     "execution_count": 212,
     "metadata": {},
     "output_type": "execute_result"
    }
   ],
   "source": [
    "age_counts = data['age'].value_counts()\n",
    "age_counts"
   ]
  },
  {
   "cell_type": "code",
   "execution_count": 67,
   "metadata": {
    "collapsed": false
   },
   "outputs": [
    {
     "data": {
      "text/plain": [
       "(array([ 104.,   16.,    7.,    3.,    2.,    2.,    1.,    1.,    0.,\n",
       "           1.,    1.,    1.,    0.,    1.,    0.,    0.,    1.,    0.,\n",
       "           0.,    1.]),\n",
       " array([  1.00000000e+00,   2.81100000e+02,   5.61200000e+02,\n",
       "          8.41300000e+02,   1.12140000e+03,   1.40150000e+03,\n",
       "          1.68160000e+03,   1.96170000e+03,   2.24180000e+03,\n",
       "          2.52190000e+03,   2.80200000e+03,   3.08210000e+03,\n",
       "          3.36220000e+03,   3.64230000e+03,   3.92240000e+03,\n",
       "          4.20250000e+03,   4.48260000e+03,   4.76270000e+03,\n",
       "          5.04280000e+03,   5.32290000e+03,   5.60300000e+03]),\n",
       " <a list of 20 Patch objects>)"
      ]
     },
     "execution_count": 67,
     "metadata": {},
     "output_type": "execute_result"
    },
    {
     "data": {
      "image/png": "[encoded data removed]",
      "text/plain": [
       "<matplotlib.figure.Figure at 0x11da56b10>"
      ]
     },
     "metadata": {},
     "output_type": "display_data"
    }
   ],
   "source": [
    "# almost all the data is from people who are 17-27\n",
    "# \n",
    "plt.hist(age_counts, bins = 20)"
   ]
  },
  {
   "cell_type": "code",
   "execution_count": 69,
   "metadata": {
    "collapsed": false
   },
   "outputs": [
    {
     "data": {
      "text/plain": [
       "'\\ndef age_bucket1(df, series):\\n    for i in series.iteritems(): \\n        if i[1] < 20:\\n            d.loc[d.sales == 12, \\'sales\\']\\n            df.loc[] = \"0-19\"\\n        elif i[1] < 30 and i[1] >= 20:\\n            df[\\'age_bucket1\\'][i[0]] = \"20-29\"\\n        elif i[1] < 40 and i[1] >= 30:\\n            df[\\'age_bucket1\\'][i[0]] = \"30-39\"\\n        elif i[1] < 50 and i[1] >= 40:\\n            df[\\'age_bucket1\\'][i[0]] = \"40-49\"\\n        elif i[1] < 60 and i[1] >= 50:\\n            df[\\'age_bucket1\\'][i[0]] = \"50-59\"\\n        elif i[1] < 70 and i[1] >= 60:\\n            df[\\'age_bucket1\\'][i[0]] = \"60-69\"\\n        elif i[1] < 80 and i[1] >= 70:\\n            df[\\'age_bucket1\\'][i[0]] = \"70-79\"\\n        else:\\n            df[\\'age_bucket1\\'] = \"80+\"\\n        \\n#       d.sales[d.sales==24] = 100\\n        \\n#d.loc[(d.day== \\'sun\\') & (d.flavour== \\'banana\\') & (d.year== 2009),\\'sales\\'] = 100\\n'"
      ]
     },
     "execution_count": 69,
     "metadata": {},
     "output_type": "execute_result"
    }
   ],
   "source": [
    "#pd.cut()\n",
    "\n",
    "def age_bucket1(df, series):\n",
    "    for i in series.iteritems(): \n",
    "        if i[1] < 20:\n",
    "            d.loc[d.sales == 12, 'sales']\n",
    "            df.loc[] = \"0-19\"\n",
    "        elif i[1] < 30 and i[1] >= 20:\n",
    "            df['age_bucket1'][i[0]] = \"20-29\"\n",
    "        elif i[1] < 40 and i[1] >= 30:\n",
    "            df['age_bucket1'][i[0]] = \"30-39\"\n",
    "        elif i[1] < 50 and i[1] >= 40:\n",
    "            df['age_bucket1'][i[0]] = \"40-49\"\n",
    "        elif i[1] < 60 and i[1] >= 50:\n",
    "            df['age_bucket1'][i[0]] = \"50-59\"\n",
    "        elif i[1] < 70 and i[1] >= 60:\n",
    "            df['age_bucket1'][i[0]] = \"60-69\"\n",
    "        elif i[1] < 80 and i[1] >= 70:\n",
    "            df['age_bucket1'][i[0]] = \"70-79\"\n",
    "        else:\n",
    "            df['age_bucket1'] = \"80+\"\n",
    "        \n",
    "#       d.sales[d.sales==24] = 100\n",
    "        \n",
    "#d.loc[(d.day== 'sun') & (d.flavour== 'banana') & (d.year== 2009),'sales'] = 100\n"
   ]
  },
  {
   "cell_type": "code",
   "execution_count": 70,
   "metadata": {
    "collapsed": false
   },
   "outputs": [
    {
     "name": "stderr",
     "output_type": "stream",
     "text": [
      "/anaconda/lib/python2.7/site-packages/ipykernel/__main__.py:2: SettingWithCopyWarning: \n",
      "A value is trying to be set on a copy of a slice from a DataFrame\n",
      "\n",
      "See the caveats in the documentation: http://pandas.pydata.org/pandas-docs/stable/indexing.html#indexing-view-versus-copy\n",
      "  from ipykernel import kernelapp as app\n"
     ]
    }
   ],
   "source": [
    "data['age_bucket1'] = 0\n",
    "data.age_bucket1[data.age < 20] = \"0-19\"\n"
   ]
  },
  {
   "cell_type": "code",
   "execution_count": 71,
   "metadata": {
    "collapsed": false
   },
   "outputs": [
    {
     "data": {
      "text/html": [
       "<div>\n",
       "<table border=\"1\" class=\"dataframe\">\n",
       "  <thead>\n",
       "    <tr style=\"text-align: right;\">\n",
       "      <th></th>\n",
       "      <th>A1</th>\n",
       "      <th>A2</th>\n",
       "      <th>A3</th>\n",
       "      <th>A4</th>\n",
       "      <th>A5</th>\n",
       "      <th>A6</th>\n",
       "      <th>A7</th>\n",
       "      <th>A8</th>\n",
       "      <th>A9</th>\n",
       "      <th>A10</th>\n",
       "      <th>...</th>\n",
       "      <th>P9</th>\n",
       "      <th>P10</th>\n",
       "      <th>age</th>\n",
       "      <th>gender</th>\n",
       "      <th>accuracy</th>\n",
       "      <th>country</th>\n",
       "      <th>source</th>\n",
       "      <th>elapsed</th>\n",
       "      <th>country_name</th>\n",
       "      <th>age_bucket1</th>\n",
       "    </tr>\n",
       "  </thead>\n",
       "  <tbody>\n",
       "    <tr>\n",
       "      <th>0</th>\n",
       "      <td>1</td>\n",
       "      <td>4</td>\n",
       "      <td>2</td>\n",
       "      <td>3</td>\n",
       "      <td>3</td>\n",
       "      <td>2</td>\n",
       "      <td>3</td>\n",
       "      <td>4</td>\n",
       "      <td>4</td>\n",
       "      <td>3</td>\n",
       "      <td>...</td>\n",
       "      <td>5</td>\n",
       "      <td>2</td>\n",
       "      <td>17</td>\n",
       "      <td>1</td>\n",
       "      <td>92</td>\n",
       "      <td>US</td>\n",
       "      <td>6</td>\n",
       "      <td>914</td>\n",
       "      <td>United States</td>\n",
       "      <td>0</td>\n",
       "    </tr>\n",
       "    <tr>\n",
       "      <th>1</th>\n",
       "      <td>4</td>\n",
       "      <td>3</td>\n",
       "      <td>4</td>\n",
       "      <td>3</td>\n",
       "      <td>4</td>\n",
       "      <td>4</td>\n",
       "      <td>4</td>\n",
       "      <td>4</td>\n",
       "      <td>2</td>\n",
       "      <td>2</td>\n",
       "      <td>...</td>\n",
       "      <td>2</td>\n",
       "      <td>2</td>\n",
       "      <td>37</td>\n",
       "      <td>1</td>\n",
       "      <td>100</td>\n",
       "      <td>US</td>\n",
       "      <td>1</td>\n",
       "      <td>891</td>\n",
       "      <td>United States</td>\n",
       "      <td>0</td>\n",
       "    </tr>\n",
       "    <tr>\n",
       "      <th>2</th>\n",
       "      <td>3</td>\n",
       "      <td>4</td>\n",
       "      <td>4</td>\n",
       "      <td>4</td>\n",
       "      <td>4</td>\n",
       "      <td>4</td>\n",
       "      <td>4</td>\n",
       "      <td>3</td>\n",
       "      <td>2</td>\n",
       "      <td>2</td>\n",
       "      <td>...</td>\n",
       "      <td>3</td>\n",
       "      <td>3</td>\n",
       "      <td>31</td>\n",
       "      <td>1</td>\n",
       "      <td>80</td>\n",
       "      <td>US</td>\n",
       "      <td>6</td>\n",
       "      <td>903</td>\n",
       "      <td>United States</td>\n",
       "      <td>0</td>\n",
       "    </tr>\n",
       "    <tr>\n",
       "      <th>3</th>\n",
       "      <td>4</td>\n",
       "      <td>5</td>\n",
       "      <td>4</td>\n",
       "      <td>4</td>\n",
       "      <td>4</td>\n",
       "      <td>3</td>\n",
       "      <td>3</td>\n",
       "      <td>2</td>\n",
       "      <td>2</td>\n",
       "      <td>2</td>\n",
       "      <td>...</td>\n",
       "      <td>4</td>\n",
       "      <td>4</td>\n",
       "      <td>32</td>\n",
       "      <td>1</td>\n",
       "      <td>93</td>\n",
       "      <td>US</td>\n",
       "      <td>1</td>\n",
       "      <td>806</td>\n",
       "      <td>United States</td>\n",
       "      <td>0</td>\n",
       "    </tr>\n",
       "    <tr>\n",
       "      <th>4</th>\n",
       "      <td>4</td>\n",
       "      <td>0</td>\n",
       "      <td>4</td>\n",
       "      <td>4</td>\n",
       "      <td>4</td>\n",
       "      <td>3</td>\n",
       "      <td>5</td>\n",
       "      <td>1</td>\n",
       "      <td>2</td>\n",
       "      <td>4</td>\n",
       "      <td>...</td>\n",
       "      <td>3</td>\n",
       "      <td>2</td>\n",
       "      <td>46</td>\n",
       "      <td>2</td>\n",
       "      <td>87</td>\n",
       "      <td>NZ</td>\n",
       "      <td>1</td>\n",
       "      <td>1826</td>\n",
       "      <td>New Zealand</td>\n",
       "      <td>0</td>\n",
       "    </tr>\n",
       "  </tbody>\n",
       "</table>\n",
       "<p>5 rows × 171 columns</p>\n",
       "</div>"
      ],
      "text/plain": [
       "   A1  A2  A3  A4  A5  A6  A7  A8  A9  A10     ...       P9  P10  age  gender  \\\n",
       "0   1   4   2   3   3   2   3   4   4    3     ...        5    2   17       1   \n",
       "1   4   3   4   3   4   4   4   4   2    2     ...        2    2   37       1   \n",
       "2   3   4   4   4   4   4   4   3   2    2     ...        3    3   31       1   \n",
       "3   4   5   4   4   4   3   3   2   2    2     ...        4    4   32       1   \n",
       "4   4   0   4   4   4   3   5   1   2    4     ...        3    2   46       2   \n",
       "\n",
       "   accuracy  country  source  elapsed   country_name  age_bucket1  \n",
       "0        92       US       6      914  United States            0  \n",
       "1       100       US       1      891  United States            0  \n",
       "2        80       US       6      903  United States            0  \n",
       "3        93       US       1      806  United States            0  \n",
       "4        87       NZ       1     1826    New Zealand            0  \n",
       "\n",
       "[5 rows x 171 columns]"
      ]
     },
     "execution_count": 71,
     "metadata": {},
     "output_type": "execute_result"
    }
   ],
   "source": [
    "data['age_bucket1'] = 0\n",
    "data.head()"
   ]
  },
  {
   "cell_type": "markdown",
   "metadata": {
    "collapsed": false
   },
   "source": [
    "STARTING NMF\n",
    "\n",
    "\n",
    "Basic NMF :\n",
    "    nmf = NMF(n_components=n_topics)\n",
    "    W_sklearn = nmf.fit_transform(document_term_mat)\n",
    "    H_sklearn = nmf.components_\n",
    "    describe_nmf_results(document_term_mat, W_sklearn, H_sklearn)\n",
    "    \n",
    "    \n",
    "\n"
   ]
  },
  {
   "cell_type": "code",
   "execution_count": 172,
   "metadata": {
    "collapsed": true
   },
   "outputs": [],
   "source": [
    "def describe_nmf_results(document_term_mat, W, H, n_top_words = 15):\n",
    "    print(\"Reconstruction error: %f\") %(reconst_mse(document_term_mat, W, H))\n",
    "    for topic_num, topic in enumerate(H):\n",
    "        print(\"Topic %d:\" % topic_num)\n",
    "        #print(\" \".join([questions[i] for i in topic.argsort()[:-n_top_words - 1:-1]]))\n",
    "        print [questions_raw.loc[i][1] for i in topic.argsort()[:-n_top_words - 1:-1]]\n",
    "        print [questions_raw.loc[i][0] for i in topic.argsort()[:-n_top_words - 1:-1]]\n",
    "\n",
    "        if topic_num > 5:\n",
    "            break\n",
    "#absolute then argsort            "
   ]
  },
  {
   "cell_type": "code",
   "execution_count": 192,
   "metadata": {
    "collapsed": true
   },
   "outputs": [],
   "source": [
    "def reconst_mse(target, left, right):\n",
    "    return (array(target - left.dot(right))**2).mean()"
   ]
  },
  {
   "cell_type": "code",
   "execution_count": null,
   "metadata": {
    "collapsed": true
   },
   "outputs": [],
   "source": [
    "exclude = ['age','gender','accuracy','country','source','elapsed','country_name','age_bucket1']\n",
    "df_main_questions = data.ix[:, data.columns.difference(exclude)] "
   ]
  },
  {
   "cell_type": "markdown",
   "metadata": {
    "collapsed": true
   },
   "source": [
    "'''\n",
    "nmf = NMF(n_components=n_topics, random_state=1, alpha=.1, l1_ratio=.5).fit(tfidf)\n",
    "from sklearn.decomposition import ProjectedGradientNMF\n",
    "nmf_model = ProjectedGradientNMF(n_components = 5, init='random', random_state=0)\n",
    "nmf_model.fit(A)\n",
    "H = nmf_model.components_.T\n",
    "W = nmf_model.fit_transform(A);\n",
    "H = nmf_model.components_;\n",
    "''''''"
   ]
  },
  {
   "cell_type": "code",
   "execution_count": 73,
   "metadata": {
    "collapsed": true
   },
   "outputs": [],
   "source": [
    "#nmf = NMF(n_components=n_topics, random_state=1, alpha=.1, l1_ratio=.5).fit(data[])`\n"
   ]
  },
  {
   "cell_type": "code",
   "execution_count": 206,
   "metadata": {
    "collapsed": false
   },
   "outputs": [
    {
     "data": {
      "text/plain": [
       "1.6146176509703336"
      ]
     },
     "execution_count": 206,
     "metadata": {},
     "output_type": "execute_result"
    }
   ],
   "source": [
    "#variance in all question responses\n",
    "df_main_questions.values.var()"
   ]
  },
  {
   "cell_type": "code",
   "execution_count": 207,
   "metadata": {
    "collapsed": false
   },
   "outputs": [
    {
     "data": {
      "text/plain": [
       "{'abstractedness': 'J',\n",
       " 'apprehension': 'L',\n",
       " 'dominance': 'D',\n",
       " 'emotional stability': 'C',\n",
       " 'liveliness': 'E',\n",
       " 'openness to change': 'M',\n",
       " 'perfectionism': 'O',\n",
       " 'privateness': 'K',\n",
       " 'reasoning': 'B',\n",
       " 'rule-consciousness': 'F',\n",
       " 'self-reliance': 'N',\n",
       " 'sensitivity': 'H',\n",
       " 'social boldness': 'G',\n",
       " 'tension': 'P',\n",
       " 'vigilance': 'I',\n",
       " 'warmth': 'A'}"
      ]
     },
     "execution_count": 207,
     "metadata": {},
     "output_type": "execute_result"
    }
   ],
   "source": [
    "questions_dict"
   ]
  },
  {
   "cell_type": "markdown",
   "metadata": {},
   "source": [
    "does it make contextual sense to have only a positive scale\n",
    "svd, negative values, pca, \n",
    "question->feature, \n",
    "in the latent feature space (W - user X feature) (H - feature X question) \n",
    "absolute value \n",
    "SVD has a single optimal solution - \n",
    "run 16 factors on nmf\n",
    "PCA and SVD will be the same things on non-square matricies\n"
   ]
  },
  {
   "cell_type": "code",
   "execution_count": 184,
   "metadata": {
    "collapsed": false
   },
   "outputs": [
    {
     "name": "stdout",
     "output_type": "stream",
     "text": [
      "Reconstruction error: 1.211327\n",
      "Topic 0:\n",
      "['I weigh the pros against the cons', 'I carry the conversation to a higher level', 'I reflect on things before acting', 'I enjoy being part of a group', 'I consider myself an average person', 'I read a lot', 'I seek quiet', 'I act wild and crazy', 'I like to read', 'I swim against the current']\n",
      "['B8', 'M4', 'B7', 'N8', 'B9', 'H3', 'N4', 'E6', 'H1', 'J5']\n"
     ]
    }
   ],
   "source": [
    "factors = 1\n",
    "nmf = NMF(n_components = factors)\n",
    "W_nmf = nmf.fit_transform(df_main_questions)\n",
    "H_nmf = nmf.components_\n",
    "describe_nmf_results(df_main_questions, W_nmf, H_nmf, n_top_words = 10)"
   ]
  },
  {
   "cell_type": "code",
   "execution_count": 185,
   "metadata": {
    "collapsed": false
   },
   "outputs": [
    {
     "name": "stdout",
     "output_type": "stream",
     "text": [
      "Reconstruction error: 1.051728\n",
      "Topic 0:\n",
      "['I feel comfortable around people', 'I start conversations', 'I find it difficult to approach others', 'I readily overcome setbacks', \"I feel others' emotions\", \"I can't do without the company of others\", 'I make people feel at ease', 'I enjoy teamwork', 'I know how to comfort others', 'I am open about my feelings']\n",
      "['G1', 'G5', 'G6', 'C3', 'A3', 'N10', 'A6', 'N9', 'A1', 'K7']\n",
      "Topic 1:\n",
      "['I often feel uncomfortable around others', 'I keep in the background', 'I have little to say', 'I keep my thoughts to myself', \"I don't talk a lot\", 'I want to be left alone', 'I talk to a lot of different people at parties', 'I am the last to laugh at a joke', 'I dislike myself', 'I am afraid that I will do the wrong thing']\n",
      "['G7', 'G10', 'G8', 'K5', 'K3', 'N1', 'G2', 'E9', 'C8', 'L1']\n"
     ]
    }
   ],
   "source": [
    "factors = 2\n",
    "nmf = NMF(n_components = factors)\n",
    "W_nmf = nmf.fit_transform(df_main_questions)\n",
    "H_nmf = nmf.components_\n",
    "describe_nmf_results(df_main_questions, W_nmf, H_nmf, n_top_words = 10)"
   ]
  },
  {
   "cell_type": "code",
   "execution_count": 186,
   "metadata": {
    "collapsed": false
   },
   "outputs": [
    {
     "name": "stdout",
     "output_type": "stream",
     "text": [
      "Reconstruction error: 0.984875\n",
      "Topic 0:\n",
      "['I find it difficult to approach others', 'I start conversations', \"I don't mind being the center of attention\", 'I feel comfortable around people', 'I joke around a lot', 'I make friends easily', 'I am open about my feelings', \"I feel others' emotions\", 'I enjoy teamwork', 'I am hard to get to know']\n",
      "['G6', 'G5', 'G3', 'G1', 'E3', 'G4', 'K7', 'A3', 'N9', 'K2']\n",
      "Topic 1:\n",
      "['I dislike myself', 'I get irritated easily', 'I often feel blue', 'I feel desperate', 'I often feel uncomfortable around others', 'I have little to say', 'I keep my thoughts to myself', \"I feel guilty when I say 'no'\", 'I believe that people seldom tell you the whole truth', 'I enjoy wild flights of fantasy']\n",
      "['C8', 'P1', 'C7', 'C9', 'G7', 'G8', 'K5', 'L6', 'I5', 'J3']\n",
      "Topic 2:\n",
      "['I like to stand during the national anthem', 'I believe in one true religion', 'I have frequent mood swings', 'I seldom daydream', 'I try to forgive and forget', 'I know that I am not a special person', 'I like order', 'I believe laws should be strictly enforced', 'I readily overcome setbacks', 'I continue until everything is perfect']\n",
      "['F5', 'F3', 'C6', 'J9', 'P9', 'B11', 'O3', 'F1', 'C3', 'O4']\n"
     ]
    }
   ],
   "source": [
    "factors = 3\n",
    "nmf = NMF(n_components = factors)\n",
    "W_nmf = nmf.fit_transform(df_main_questions)\n",
    "H_nmf = nmf.components_\n",
    "describe_nmf_results(df_main_questions, W_nmf, H_nmf, n_top_words = 10)"
   ]
  },
  {
   "cell_type": "code",
   "execution_count": 180,
   "metadata": {
    "collapsed": false
   },
   "outputs": [
    {
     "name": "stdout",
     "output_type": "stream",
     "text": [
      "Reconstruction error: 0.918075\n",
      "Topic 0:\n",
      "['I find it difficult to approach others', 'I start conversations', \"I don't mind being the center of attention\", 'I make friends easily', 'I feel comfortable around people', 'I joke around a lot', 'I am hard to get to know', 'I am not afraid of providing criticism', 'I am open about my feelings', \"I feel others' emotions\"]\n",
      "['G6', 'G5', 'G3', 'G4', 'G1', 'E3', 'K2', 'D4', 'K7', 'A3']\n",
      "Topic 1:\n",
      "[\"I don't talk a lot\", 'I enjoy wild flights of fantasy', 'I want to be left alone', 'I believe that people seldom tell you the whole truth', 'I do things that others find strange', 'I have little to say', 'I am the last to laugh at a joke', 'I swim against the current', 'I enjoy spending time by myself', 'I love to daydream']\n",
      "['K3', 'J3', 'N1', 'I5', 'J1', 'G8', 'E9', 'J5', 'N3', 'J4']\n",
      "Topic 2:\n",
      "['I worry about things', 'I know the answers to many questions', 'I am afraid that I will do the wrong thing', 'I feel comfortable with myself', 'I feel crushed by setbacks', 'I spend time thinking about past mistakes', 'I skip difficult words while reading', \"I don't worry about things that have already happened\", 'I am easily hurt', 'I learn quickly']\n",
      "['L4', 'B2', 'L1', 'C2', 'L7', 'L5', 'B13', 'L8', 'L3', 'B5']\n",
      "Topic 3:\n",
      "['I like to stand during the national anthem', 'I believe in one true religion', 'I have frequent mood swings', 'I try to forgive and forget', 'I know that I am not a special person', 'I like order', 'I readily overcome setbacks', 'I seldom daydream', 'I believe laws should be strictly enforced', 'I bottle up my feelings']\n",
      "['F5', 'F3', 'C6', 'P9', 'B11', 'O3', 'C3', 'J9', 'F1', 'K4']\n"
     ]
    }
   ],
   "source": [
    "factors = 4\n",
    "nmf = NMF(n_components = factors)\n",
    "W_nmf = nmf.fit_transform(df_main_questions)\n",
    "H_nmf = nmf.components_\n",
    "describe_nmf_results(df_main_questions, W_nmf, H_nmf, n_top_words = 10)"
   ]
  },
  {
   "cell_type": "code",
   "execution_count": 181,
   "metadata": {
    "collapsed": false
   },
   "outputs": [
    {
     "name": "stdout",
     "output_type": "stream",
     "text": [
      "Reconstruction error: 0.868117\n",
      "Topic 0:\n",
      "['I know how to comfort others', 'I find it difficult to approach others', 'I feel comfortable around people', \"I feel others' emotions\", 'I readily overcome setbacks', 'I start conversations', 'I am open about my feelings', 'I make people feel at ease', 'I take time out for others', 'I like to read']\n",
      "['A1', 'G6', 'G1', 'A3', 'C3', 'G5', 'K7', 'A6', 'A7', 'H1']\n",
      "Topic 1:\n",
      "[\"I don't talk a lot\", 'I enjoy wild flights of fantasy', 'I want to be left alone', \"I don't like action movies\", 'I am the last to laugh at a joke', 'I enjoy spending time by myself', 'I seek quiet', \"I don't mind eating alone\", 'I like to read', 'I do things that others find strange']\n",
      "['K3', 'J3', 'N1', 'H4', 'E9', 'N3', 'N4', 'N5', 'H1', 'J1']\n",
      "Topic 2:\n",
      "['I worry about things', 'I feel crushed by setbacks', 'I am afraid that I will do the wrong thing', 'I love flowers', 'I spend time thinking about past mistakes', 'I want to be in charge', 'I feel comfortable with myself', \"I take an interest in other people's lives\", \"I don't worry about things that have already happened\", \"I feel guilty when I say 'no'\"]\n",
      "['L4', 'L7', 'L1', 'H6', 'L5', 'D2', 'C2', 'A4', 'L8', 'L6']\n",
      "Topic 3:\n",
      "['I bottle up my feelings', 'I seldom get lost in thought', 'I dislike works of fiction', 'I love to think up new ways of doing things', 'I reveal little about myself', 'I like to stand during the national anthem', 'I am open about myself to others', 'I like to get lost in thought', 'I am quiet around strangers', 'I believe laws should be strictly enforced']\n",
      "['K4', 'J10', 'H9', 'M2', 'K1', 'F5', 'K6', 'J2', 'G9', 'F1']\n",
      "Topic 4:\n",
      "['I seldom joke around', 'I joke around a lot', 'I use swear words', 'I am the life of the party', 'I amuse my friends', 'I oppose authority', 'I make friends easily', 'I try to follow the rules', \"I don't mind being the center of attention\", 'I know how to get around the rules']\n",
      "['E7', 'E3', 'F8', 'E1', 'E5', 'F9', 'G4', 'F2', 'G3', 'F10']\n"
     ]
    }
   ],
   "source": [
    "factors = 5\n",
    "nmf = NMF(n_components = factors)\n",
    "W_nmf = nmf.fit_transform(df_main_questions)\n",
    "H_nmf = nmf.components_\n",
    "describe_nmf_results(df_main_questions, W_nmf, H_nmf, n_top_words = 10)"
   ]
  },
  {
   "cell_type": "code",
   "execution_count": 182,
   "metadata": {
    "collapsed": false
   },
   "outputs": [
    {
     "name": "stdout",
     "output_type": "stream",
     "text": [
      "Reconstruction error: 0.830863\n",
      "Topic 0:\n",
      "['I know how to comfort others', 'I am open about my feelings', 'I find it difficult to approach others', 'I disclose my intimate thoughts', 'I start conversations', 'I feel comfortable around people', 'I like to stand during the national anthem', \"I feel others' emotions\", 'I resist authority', 'I take time out for others']\n",
      "['A1', 'K7', 'G6', 'K8', 'G5', 'G1', 'F5', 'A3', 'F6', 'A7']\n",
      "Topic 1:\n",
      "['I am the last to laugh at a joke', 'I believe that people seldom tell you the whole truth', 'I want to be left alone', 'I get irritated easily', 'I enjoy spending time by myself', \"I don't mind eating alone\", \"I don't talk a lot\", 'I like to read', \"I don't like action movies\", 'I spend time thinking about past mistakes']\n",
      "['E9', 'I5', 'N1', 'P1', 'N3', 'N5', 'K3', 'H1', 'H4', 'L5']\n",
      "Topic 2:\n",
      "['I feel crushed by setbacks', 'I worry about things', 'I am afraid that I will do the wrong thing', 'I love flowers', 'I want to be in charge', \"I take an interest in other people's lives\", 'I know the answers to many questions', 'I feel comfortable with myself', 'I leave my belongings around', 'I prefer to do things by myself']\n",
      "['L7', 'L4', 'L1', 'H6', 'D2', 'A4', 'B2', 'C2', 'O9', 'N2']\n",
      "Topic 3:\n",
      "['I am quiet around strangers', 'I love to think up new ways of doing things', 'I rarely look for a deeper meaning in things', 'I bottle up my feelings', 'I am open about myself to others', 'I dislike works of fiction', 'I seldom get lost in thought', 'I like to get lost in thought', 'I am not interested in theoretical discussions', 'I am not interested in abstract ideas']\n",
      "['G9', 'M2', 'M7', 'K4', 'K6', 'H9', 'J10', 'J2', 'M8', 'M9']\n",
      "Topic 4:\n",
      "['I joke around a lot', 'I seldom joke around', 'I use swear words', 'I am the life of the party', 'I make friends easily', 'I try to follow the rules', 'I oppose authority', 'I amuse my friends', \"I don't mind being the center of attention\", 'I am quick to judge others']\n",
      "['E3', 'E7', 'F8', 'E1', 'G4', 'F2', 'F9', 'E5', 'G3', 'P3']\n",
      "Topic 5:\n",
      "['I leave a mess in my room', 'I am not bothered by disorder', 'I am not easily frustrated', \"I don't let others discourage me\", 'I enjoy wild flights of fantasy', 'I have frequent mood swings', 'I try to forgive and forget', 'I leave my belongings around', 'I love to daydream', 'I enjoy silence']\n",
      "['O8', 'O7', 'C5', 'L10', 'J3', 'C6', 'P9', 'O9', 'J4', 'N6']\n"
     ]
    }
   ],
   "source": [
    "factors = 6\n",
    "nmf = NMF(n_components = factors)\n",
    "W_nmf = nmf.fit_transform(df_main_questions)\n",
    "H_nmf = nmf.components_\n",
    "describe_nmf_results(df_main_questions, W_nmf, H_nmf, n_top_words = 10)"
   ]
  },
  {
   "cell_type": "code",
   "execution_count": 183,
   "metadata": {
    "collapsed": false
   },
   "outputs": [
    {
     "name": "stdout",
     "output_type": "stream",
     "text": [
      "Reconstruction error: 0.809501\n",
      "Topic 0:\n",
      "['I know how to comfort others', 'I find it difficult to approach others', 'I feel comfortable around people', 'I start conversations', 'I am open about my feelings', \"I feel others' emotions\", 'I disclose my intimate thoughts', 'I like to stand during the national anthem', 'I readily overcome setbacks', 'I resist authority']\n",
      "['A1', 'G6', 'G1', 'G5', 'K7', 'A3', 'K8', 'F5', 'C3', 'F6']\n",
      "Topic 1:\n",
      "['I spend time thinking about past mistakes', \"I feel guilty when I say 'no'\", 'I believe that people seldom tell you the whole truth', 'I like to read', 'I keep my thoughts to myself', 'I reflect on things before acting', \"I don't talk a lot\", \"I don't like action movies\", 'I dislike myself', \"I want everything to be 'just right'\"]\n",
      "['L5', 'L6', 'I5', 'H1', 'K5', 'B7', 'K3', 'H4', 'C8', 'O1']\n",
      "Topic 2:\n",
      "['I seldom joke around', 'I use swear words', 'I joke around a lot', 'I oppose authority', 'I try to follow the rules', 'I am the life of the party', 'I make friends easily', \"I don't mind being the center of attention\", 'I amuse my friends', 'I do things by the book']\n",
      "['E7', 'F8', 'E3', 'F9', 'F2', 'E1', 'G4', 'G3', 'E5', 'J8']\n",
      "Topic 3:\n",
      "['I love to think up new ways of doing things', 'I dislike works of fiction', 'I seldom get lost in thought', 'I rarely look for a deeper meaning in things', 'I like to get lost in thought', \"I don't like crowded events\", 'I am quiet around strangers', 'I am not interested in abstract ideas', 'I try to avoid complex people', 'I am not interested in theoretical discussions']\n",
      "['M2', 'H9', 'J10', 'M7', 'J2', 'E8', 'G9', 'M9', 'M10', 'M8']\n",
      "Topic 4:\n"
     ]
    },
    {
     "ename": "KeyError",
     "evalue": "'the label [162] is not in the [index]'",
     "output_type": "error",
     "traceback": [
      "\u001b[0;31m---------------------------------------------------------------------------\u001b[0m",
      "\u001b[0;31mKeyError\u001b[0m                                  Traceback (most recent call last)",
      "\u001b[0;32m<ipython-input-183-0055a44e3bf3>\u001b[0m in \u001b[0;36m<module>\u001b[0;34m()\u001b[0m\n\u001b[1;32m      3\u001b[0m \u001b[0mW_nmf\u001b[0m \u001b[0;34m=\u001b[0m \u001b[0mnmf\u001b[0m\u001b[0;34m.\u001b[0m\u001b[0mfit_transform\u001b[0m\u001b[0;34m(\u001b[0m\u001b[0mdf_main_questions\u001b[0m\u001b[0;34m)\u001b[0m\u001b[0;34m\u001b[0m\u001b[0m\n\u001b[1;32m      4\u001b[0m \u001b[0mH_nmf\u001b[0m \u001b[0;34m=\u001b[0m \u001b[0mnmf\u001b[0m\u001b[0;34m.\u001b[0m\u001b[0mcomponents_\u001b[0m\u001b[0;34m\u001b[0m\u001b[0m\n\u001b[0;32m----> 5\u001b[0;31m \u001b[0mdescribe_nmf_results\u001b[0m\u001b[0;34m(\u001b[0m\u001b[0mdf_main_questions\u001b[0m\u001b[0;34m,\u001b[0m \u001b[0mW_nmf\u001b[0m\u001b[0;34m,\u001b[0m \u001b[0mH_nmf\u001b[0m\u001b[0;34m,\u001b[0m \u001b[0mn_top_words\u001b[0m \u001b[0;34m=\u001b[0m \u001b[0;36m10\u001b[0m\u001b[0;34m)\u001b[0m\u001b[0;34m\u001b[0m\u001b[0m\n\u001b[0m",
      "\u001b[0;32m<ipython-input-172-96e8a62785e3>\u001b[0m in \u001b[0;36mdescribe_nmf_results\u001b[0;34m(document_term_mat, W, H, n_top_words)\u001b[0m\n\u001b[1;32m      4\u001b[0m         \u001b[0;32mprint\u001b[0m\u001b[0;34m(\u001b[0m\u001b[0;34m\"Topic %d:\"\u001b[0m \u001b[0;34m%\u001b[0m \u001b[0mtopic_num\u001b[0m\u001b[0;34m)\u001b[0m\u001b[0;34m\u001b[0m\u001b[0m\n\u001b[1;32m      5\u001b[0m         \u001b[0;31m#print(\" \".join([questions[i] for i in topic.argsort()[:-n_top_words - 1:-1]]))\u001b[0m\u001b[0;34m\u001b[0m\u001b[0;34m\u001b[0m\u001b[0m\n\u001b[0;32m----> 6\u001b[0;31m         \u001b[0;32mprint\u001b[0m \u001b[0;34m[\u001b[0m\u001b[0mquestions_raw\u001b[0m\u001b[0;34m.\u001b[0m\u001b[0mloc\u001b[0m\u001b[0;34m[\u001b[0m\u001b[0mi\u001b[0m\u001b[0;34m]\u001b[0m\u001b[0;34m[\u001b[0m\u001b[0;36m1\u001b[0m\u001b[0;34m]\u001b[0m \u001b[0;32mfor\u001b[0m \u001b[0mi\u001b[0m \u001b[0;32min\u001b[0m \u001b[0mtopic\u001b[0m\u001b[0;34m.\u001b[0m\u001b[0margsort\u001b[0m\u001b[0;34m(\u001b[0m\u001b[0;34m)\u001b[0m\u001b[0;34m[\u001b[0m\u001b[0;34m:\u001b[0m\u001b[0;34m-\u001b[0m\u001b[0mn_top_words\u001b[0m \u001b[0;34m-\u001b[0m \u001b[0;36m1\u001b[0m\u001b[0;34m:\u001b[0m\u001b[0;34m-\u001b[0m\u001b[0;36m1\u001b[0m\u001b[0;34m]\u001b[0m\u001b[0;34m]\u001b[0m\u001b[0;34m\u001b[0m\u001b[0m\n\u001b[0m\u001b[1;32m      7\u001b[0m         \u001b[0;32mprint\u001b[0m \u001b[0;34m[\u001b[0m\u001b[0mquestions_raw\u001b[0m\u001b[0;34m.\u001b[0m\u001b[0mloc\u001b[0m\u001b[0;34m[\u001b[0m\u001b[0mi\u001b[0m\u001b[0;34m]\u001b[0m\u001b[0;34m[\u001b[0m\u001b[0;36m0\u001b[0m\u001b[0;34m]\u001b[0m \u001b[0;32mfor\u001b[0m \u001b[0mi\u001b[0m \u001b[0;32min\u001b[0m \u001b[0mtopic\u001b[0m\u001b[0;34m.\u001b[0m\u001b[0margsort\u001b[0m\u001b[0;34m(\u001b[0m\u001b[0;34m)\u001b[0m\u001b[0;34m[\u001b[0m\u001b[0;34m:\u001b[0m\u001b[0;34m-\u001b[0m\u001b[0mn_top_words\u001b[0m \u001b[0;34m-\u001b[0m \u001b[0;36m1\u001b[0m\u001b[0;34m:\u001b[0m\u001b[0;34m-\u001b[0m\u001b[0;36m1\u001b[0m\u001b[0;34m]\u001b[0m\u001b[0;34m]\u001b[0m\u001b[0;34m\u001b[0m\u001b[0m\n\u001b[1;32m      8\u001b[0m \u001b[0;34m\u001b[0m\u001b[0m\n",
      "\u001b[0;32m//anaconda/lib/python2.7/site-packages/pandas/core/indexing.pyc\u001b[0m in \u001b[0;36m__getitem__\u001b[0;34m(self, key)\u001b[0m\n\u001b[1;32m   1284\u001b[0m             \u001b[0;32mreturn\u001b[0m \u001b[0mself\u001b[0m\u001b[0;34m.\u001b[0m\u001b[0m_getitem_tuple\u001b[0m\u001b[0;34m(\u001b[0m\u001b[0mkey\u001b[0m\u001b[0;34m)\u001b[0m\u001b[0;34m\u001b[0m\u001b[0m\n\u001b[1;32m   1285\u001b[0m         \u001b[0;32melse\u001b[0m\u001b[0;34m:\u001b[0m\u001b[0;34m\u001b[0m\u001b[0m\n\u001b[0;32m-> 1286\u001b[0;31m             \u001b[0;32mreturn\u001b[0m \u001b[0mself\u001b[0m\u001b[0;34m.\u001b[0m\u001b[0m_getitem_axis\u001b[0m\u001b[0;34m(\u001b[0m\u001b[0mkey\u001b[0m\u001b[0;34m,\u001b[0m \u001b[0maxis\u001b[0m\u001b[0;34m=\u001b[0m\u001b[0;36m0\u001b[0m\u001b[0;34m)\u001b[0m\u001b[0;34m\u001b[0m\u001b[0m\n\u001b[0m\u001b[1;32m   1287\u001b[0m \u001b[0;34m\u001b[0m\u001b[0m\n\u001b[1;32m   1288\u001b[0m     \u001b[0;32mdef\u001b[0m \u001b[0m_getitem_axis\u001b[0m\u001b[0;34m(\u001b[0m\u001b[0mself\u001b[0m\u001b[0;34m,\u001b[0m \u001b[0mkey\u001b[0m\u001b[0;34m,\u001b[0m \u001b[0maxis\u001b[0m\u001b[0;34m=\u001b[0m\u001b[0;36m0\u001b[0m\u001b[0;34m)\u001b[0m\u001b[0;34m:\u001b[0m\u001b[0;34m\u001b[0m\u001b[0m\n",
      "\u001b[0;32m//anaconda/lib/python2.7/site-packages/pandas/core/indexing.pyc\u001b[0m in \u001b[0;36m_getitem_axis\u001b[0;34m(self, key, axis)\u001b[0m\n\u001b[1;32m   1427\u001b[0m \u001b[0;34m\u001b[0m\u001b[0m\n\u001b[1;32m   1428\u001b[0m         \u001b[0;31m# fall thru to straight lookup\u001b[0m\u001b[0;34m\u001b[0m\u001b[0;34m\u001b[0m\u001b[0m\n\u001b[0;32m-> 1429\u001b[0;31m         \u001b[0mself\u001b[0m\u001b[0;34m.\u001b[0m\u001b[0m_has_valid_type\u001b[0m\u001b[0;34m(\u001b[0m\u001b[0mkey\u001b[0m\u001b[0;34m,\u001b[0m \u001b[0maxis\u001b[0m\u001b[0;34m)\u001b[0m\u001b[0;34m\u001b[0m\u001b[0m\n\u001b[0m\u001b[1;32m   1430\u001b[0m         \u001b[0;32mreturn\u001b[0m \u001b[0mself\u001b[0m\u001b[0;34m.\u001b[0m\u001b[0m_get_label\u001b[0m\u001b[0;34m(\u001b[0m\u001b[0mkey\u001b[0m\u001b[0;34m,\u001b[0m \u001b[0maxis\u001b[0m\u001b[0;34m=\u001b[0m\u001b[0maxis\u001b[0m\u001b[0;34m)\u001b[0m\u001b[0;34m\u001b[0m\u001b[0m\n\u001b[1;32m   1431\u001b[0m \u001b[0;34m\u001b[0m\u001b[0m\n",
      "\u001b[0;32m//anaconda/lib/python2.7/site-packages/pandas/core/indexing.pyc\u001b[0m in \u001b[0;36m_has_valid_type\u001b[0;34m(self, key, axis)\u001b[0m\n\u001b[1;32m   1389\u001b[0m                 \u001b[0;32mraise\u001b[0m\u001b[0;34m\u001b[0m\u001b[0m\n\u001b[1;32m   1390\u001b[0m             \u001b[0;32mexcept\u001b[0m\u001b[0;34m:\u001b[0m\u001b[0;34m\u001b[0m\u001b[0m\n\u001b[0;32m-> 1391\u001b[0;31m                 \u001b[0merror\u001b[0m\u001b[0;34m(\u001b[0m\u001b[0;34m)\u001b[0m\u001b[0;34m\u001b[0m\u001b[0m\n\u001b[0m\u001b[1;32m   1392\u001b[0m \u001b[0;34m\u001b[0m\u001b[0m\n\u001b[1;32m   1393\u001b[0m         \u001b[0;32mreturn\u001b[0m \u001b[0mTrue\u001b[0m\u001b[0;34m\u001b[0m\u001b[0m\n",
      "\u001b[0;32m//anaconda/lib/python2.7/site-packages/pandas/core/indexing.pyc\u001b[0m in \u001b[0;36merror\u001b[0;34m()\u001b[0m\n\u001b[1;32m   1376\u001b[0m                                     \"key\")\n\u001b[1;32m   1377\u001b[0m                 raise KeyError(\"the label [%s] is not in the [%s]\" %\n\u001b[0;32m-> 1378\u001b[0;31m                                (key, self.obj._get_axis_name(axis)))\n\u001b[0m\u001b[1;32m   1379\u001b[0m \u001b[0;34m\u001b[0m\u001b[0m\n\u001b[1;32m   1380\u001b[0m             \u001b[0;32mtry\u001b[0m\u001b[0;34m:\u001b[0m\u001b[0;34m\u001b[0m\u001b[0m\n",
      "\u001b[0;31mKeyError\u001b[0m: 'the label [162] is not in the [index]'"
     ]
    }
   ],
   "source": [
    "factors = 7\n",
    "nmf = NMF(n_components = factors)\n",
    "W_nmf = nmf.fit_transform(df_main_questions)\n",
    "H_nmf = nmf.components_\n",
    "describe_nmf_results(df_main_questions, W_nmf, H_nmf, n_top_words = 10)"
   ]
  },
  {
   "cell_type": "code",
   "execution_count": 188,
   "metadata": {
    "collapsed": false
   },
   "outputs": [
    {
     "data": {
      "text/plain": [
       "{'abstractedness': 'J',\n",
       " 'apprehension': 'L',\n",
       " 'dominance': 'D',\n",
       " 'emotional stability': 'C',\n",
       " 'liveliness': 'E',\n",
       " 'openness to change': 'M',\n",
       " 'perfectionism': 'O',\n",
       " 'privateness': 'K',\n",
       " 'reasoning': 'B',\n",
       " 'rule-consciousness': 'F',\n",
       " 'self-reliance': 'N',\n",
       " 'sensitivity': 'H',\n",
       " 'social boldness': 'G',\n",
       " 'tension': 'P',\n",
       " 'vigilance': 'I',\n",
       " 'warmth': 'A'}"
      ]
     },
     "execution_count": 188,
     "metadata": {},
     "output_type": "execute_result"
    }
   ],
   "source": [
    "questions_dict"
   ]
  },
  {
   "cell_type": "code",
   "execution_count": 187,
   "metadata": {
    "collapsed": false
   },
   "outputs": [
    {
     "name": "stdout",
     "output_type": "stream",
     "text": [
      "Reconstruction error: 0.791844\n",
      "Topic 0:\n",
      "['I like to stand during the national anthem', 'I feel comfortable around people', 'I start conversations', 'I know how to comfort others', 'I find it difficult to approach others', 'I resist authority', \"I feel others' emotions\", 'I believe in one true religion', 'I readily overcome setbacks', 'I take charge']\n",
      "['F5', 'G1', 'G5', 'A1', 'G6', 'F6', 'A3', 'F3', 'C3', 'D1']\n",
      "Topic 1:\n",
      "['I am easily put out', 'I believe that people seldom tell you the whole truth', 'I get irritated easily', 'I spend time thinking about past mistakes', 'I find it hard to forgive others', \"I feel guilty when I say 'no'\", 'I reflect on things before acting', 'I am wary of others', \"I want everything to be 'just right'\", \"I am annoyed by others' mistakes\"]\n",
      "['P5', 'I5', 'P1', 'L5', 'I1', 'L6', 'B7', 'I3', 'O1', 'P4']\n",
      "Topic 2:\n",
      "['I love to think up new ways of doing things', 'I rarely look for a deeper meaning in things', 'I am quiet around strangers', \"I don't like crowded events\", 'I am not interested in abstract ideas', 'I seldom get lost in thought', 'I like to get lost in thought', 'I respect authority', 'I am not interested in theoretical discussions', 'I try to avoid complex people']\n",
      "['M2', 'M7', 'G9', 'E8', 'M9', 'J10', 'J2', 'F4', 'M8', 'M10']\n",
      "Topic 3:\n",
      "[\"I don't talk a lot\", 'I enjoy silence', 'I enjoy my privacy', \"I don't like action movies\", 'I take deviant positions', 'I feel threatened easily', 'I reveal little about myself', 'I like to read', 'I seek quiet', 'I do things that others find strange']\n",
      "['K3', 'N6', 'N7', 'H4', 'J6', 'L2', 'K1', 'H1', 'N4', 'J1']\n",
      "Topic 4:\n",
      "['I oppose authority', 'I use swear words', 'I make friends easily', 'I joke around a lot', 'I am not afraid of providing criticism', 'I take control of things', 'I am the life of the party', 'I try to follow the rules', 'I enjoy being part of a loud crowd', 'I seldom joke around']\n",
      "['F9', 'F8', 'G4', 'E3', 'D4', 'D5', 'E1', 'F2', 'E4', 'E7']\n",
      "Topic 5:\n",
      "['I never challenge things', 'I let myself be pushed around', 'I leave my belongings around', 'I tend to analyze things', 'I skip difficult words while reading', 'I believe that others have good intentions', 'I keep in the background', 'I talk to a lot of different people at parties', 'I get chores done right away', 'I trust others']\n",
      "['D8', 'D10', 'O9', 'B3', 'B13', 'I9', 'G10', 'G2', 'O2', 'I8']\n",
      "Topic 6:\n",
      "['I am willing to talk about myself', 'I love flowers', 'I disclose my intimate thoughts', 'I worry about things', 'I am open about my feelings', 'I show my feelings', \"I take an interest in other people's lives\", 'I often feel blue', 'I do not enjoy watching dance performances', 'I cry during movies']\n",
      "['K10', 'H6', 'K8', 'L4', 'K7', 'K9', 'A4', 'C7', 'H7', 'H5']\n"
     ]
    }
   ],
   "source": [
    "factors = 8\n",
    "nmf = NMF(n_components = factors)\n",
    "W_nmf = nmf.fit_transform(df_main_questions)\n",
    "H_nmf = nmf.components_\n",
    "describe_nmf_results(df_main_questions, W_nmf, H_nmf, n_top_words = 10)"
   ]
  },
  {
   "cell_type": "code",
   "execution_count": 191,
   "metadata": {
    "collapsed": false
   },
   "outputs": [
    {
     "data": {
      "text/plain": [
       "{'abstractedness': 'J',\n",
       " 'apprehension': 'L',\n",
       " 'dominance': 'D',\n",
       " 'emotional stability': 'C',\n",
       " 'liveliness': 'E',\n",
       " 'openness to change': 'M',\n",
       " 'perfectionism': 'O',\n",
       " 'privateness': 'K',\n",
       " 'reasoning': 'B',\n",
       " 'rule-consciousness': 'F',\n",
       " 'self-reliance': 'N',\n",
       " 'sensitivity': 'H',\n",
       " 'social boldness': 'G',\n",
       " 'tension': 'P',\n",
       " 'vigilance': 'I',\n",
       " 'warmth': 'A'}"
      ]
     },
     "execution_count": 191,
     "metadata": {},
     "output_type": "execute_result"
    }
   ],
   "source": [
    "questions_dict"
   ]
  },
  {
   "cell_type": "code",
   "execution_count": 190,
   "metadata": {
    "collapsed": false
   },
   "outputs": [
    {
     "data": {
      "text/plain": [
       "count                                    162\n",
       "unique                                   162\n",
       "top       I believe in the importance of art\n",
       "freq                                       1\n",
       "Name: Description, dtype: object"
      ]
     },
     "execution_count": 190,
     "metadata": {},
     "output_type": "execute_result"
    }
   ],
   "source": [
    "questions.describe()"
   ]
  },
  {
   "cell_type": "code",
   "execution_count": 128,
   "metadata": {
    "collapsed": false
   },
   "outputs": [
    {
     "data": {
      "text/html": [
       "<div>\n",
       "<table border=\"1\" class=\"dataframe\">\n",
       "  <thead>\n",
       "    <tr style=\"text-align: right;\">\n",
       "      <th></th>\n",
       "      <th>Field</th>\n",
       "      <th>Description</th>\n",
       "    </tr>\n",
       "  </thead>\n",
       "  <tbody>\n",
       "    <tr>\n",
       "      <th>0</th>\n",
       "      <td>A1</td>\n",
       "      <td>I know how to comfort others rated on a five p...</td>\n",
       "    </tr>\n",
       "    <tr>\n",
       "      <th>1</th>\n",
       "      <td>A2</td>\n",
       "      <td>I enjoy bringing people together rated on a fi...</td>\n",
       "    </tr>\n",
       "    <tr>\n",
       "      <th>2</th>\n",
       "      <td>A3</td>\n",
       "      <td>I feel others' emotions rated on a five point ...</td>\n",
       "    </tr>\n",
       "    <tr>\n",
       "      <th>3</th>\n",
       "      <td>A4</td>\n",
       "      <td>I take an interest in other people's lives rat...</td>\n",
       "    </tr>\n",
       "    <tr>\n",
       "      <th>4</th>\n",
       "      <td>A5</td>\n",
       "      <td>I cheer people up rated on a five point scale ...</td>\n",
       "    </tr>\n",
       "  </tbody>\n",
       "</table>\n",
       "</div>"
      ],
      "text/plain": [
       "  Field                                        Description\n",
       "0    A1  I know how to comfort others rated on a five p...\n",
       "1    A2  I enjoy bringing people together rated on a fi...\n",
       "2    A3  I feel others' emotions rated on a five point ...\n",
       "3    A4  I take an interest in other people's lives rat...\n",
       "4    A5  I cheer people up rated on a five point scale ..."
      ]
     },
     "execution_count": 128,
     "metadata": {},
     "output_type": "execute_result"
    }
   ],
   "source": [
    "questions_raw.head()"
   ]
  },
  {
   "cell_type": "code",
   "execution_count": 177,
   "metadata": {
    "collapsed": true
   },
   "outputs": [],
   "source": [
    "def reconst_mse(target, left, right):\n",
    "    return (array(target - left.dot(right))**2).mean()"
   ]
  },
  {
   "cell_type": "code",
   "execution_count": 90,
   "metadata": {
    "collapsed": false
   },
   "outputs": [
    {
     "data": {
      "text/plain": [
       "(5, 163)"
      ]
     },
     "execution_count": 90,
     "metadata": {},
     "output_type": "execute_result"
    }
   ],
   "source": [
    "H_nmf.shape"
   ]
  },
  {
   "cell_type": "code",
   "execution_count": 120,
   "metadata": {
    "collapsed": false
   },
   "outputs": [
    {
     "data": {
      "text/html": [
       "<div>\n",
       "<table border=\"1\" class=\"dataframe\">\n",
       "  <thead>\n",
       "    <tr style=\"text-align: right;\">\n",
       "      <th></th>\n",
       "      <th>Description</th>\n",
       "      <th>Trait</th>\n",
       "      <th>Trait_Letter</th>\n",
       "    </tr>\n",
       "    <tr>\n",
       "      <th>Field</th>\n",
       "      <th></th>\n",
       "      <th></th>\n",
       "      <th></th>\n",
       "    </tr>\n",
       "  </thead>\n",
       "  <tbody>\n",
       "    <tr>\n",
       "      <th>A1</th>\n",
       "      <td>I know how to comfort others</td>\n",
       "      <td>Warmth</td>\n",
       "      <td>A</td>\n",
       "    </tr>\n",
       "    <tr>\n",
       "      <th>A2</th>\n",
       "      <td>I enjoy bringing people together</td>\n",
       "      <td>Warmth</td>\n",
       "      <td>A</td>\n",
       "    </tr>\n",
       "    <tr>\n",
       "      <th>A3</th>\n",
       "      <td>I feel others' emotions</td>\n",
       "      <td>Warmth</td>\n",
       "      <td>A</td>\n",
       "    </tr>\n",
       "    <tr>\n",
       "      <th>A4</th>\n",
       "      <td>I take an interest in other people's lives</td>\n",
       "      <td>Warmth</td>\n",
       "      <td>A</td>\n",
       "    </tr>\n",
       "    <tr>\n",
       "      <th>A5</th>\n",
       "      <td>I cheer people up</td>\n",
       "      <td>Warmth</td>\n",
       "      <td>A</td>\n",
       "    </tr>\n",
       "  </tbody>\n",
       "</table>\n",
       "</div>"
      ],
      "text/plain": [
       "                                      Description   Trait Trait_Letter\n",
       "Field                                                                 \n",
       "A1                   I know how to comfort others  Warmth            A\n",
       "A2               I enjoy bringing people together  Warmth            A\n",
       "A3                        I feel others' emotions  Warmth            A\n",
       "A4     I take an interest in other people's lives  Warmth            A\n",
       "A5                              I cheer people up  Warmth            A"
      ]
     },
     "execution_count": 120,
     "metadata": {},
     "output_type": "execute_result"
    }
   ],
   "source": [
    "questions.head()"
   ]
  },
  {
   "cell_type": "code",
   "execution_count": 201,
   "metadata": {
    "collapsed": false
   },
   "outputs": [
    {
     "name": "stdout",
     "output_type": "stream",
     "text": [
      "<class 'pandas.core.frame.DataFrame'>\n",
      "RangeIndex: 49159 entries, 0 to 49158\n",
      "Columns: 163 entries, A1 to P9\n",
      "dtypes: int64(163)\n",
      "memory usage: 61.1 MB\n"
     ]
    }
   ],
   "source": [
    "df_main_questions.info()"
   ]
  },
  {
   "cell_type": "code",
   "execution_count": 203,
   "metadata": {
    "collapsed": false,
    "scrolled": true
   },
   "outputs": [
    {
     "name": "stdout",
     "output_type": "stream",
     "text": [
      "<class 'pandas.core.frame.DataFrame'>\n",
      "RangeIndex: 162 entries, 0 to 161\n",
      "Data columns (total 2 columns):\n",
      "Field          162 non-null object\n",
      "Description    162 non-null object\n",
      "dtypes: object(2)\n",
      "memory usage: 2.6+ KB\n"
     ]
    }
   ],
   "source": [
    "questions_raw.info()"
   ]
  },
  {
   "cell_type": "code",
   "execution_count": 209,
   "metadata": {
    "collapsed": false
   },
   "outputs": [
    {
     "data": {
      "text/html": [
       "<div>\n",
       "<table border=\"1\" class=\"dataframe\">\n",
       "  <thead>\n",
       "    <tr style=\"text-align: right;\">\n",
       "      <th></th>\n",
       "      <th>Code</th>\n",
       "      <th>Country</th>\n",
       "    </tr>\n",
       "  </thead>\n",
       "  <tbody>\n",
       "    <tr>\n",
       "      <th>0</th>\n",
       "      <td>A1</td>\n",
       "      <td>Anonymous Proxy</td>\n",
       "    </tr>\n",
       "    <tr>\n",
       "      <th>1</th>\n",
       "      <td>A2</td>\n",
       "      <td>Satellite Provider</td>\n",
       "    </tr>\n",
       "    <tr>\n",
       "      <th>2</th>\n",
       "      <td>O1</td>\n",
       "      <td>Other Country</td>\n",
       "    </tr>\n",
       "    <tr>\n",
       "      <th>3</th>\n",
       "      <td>AD</td>\n",
       "      <td>Andorra</td>\n",
       "    </tr>\n",
       "    <tr>\n",
       "      <th>4</th>\n",
       "      <td>AE</td>\n",
       "      <td>United Arab Emirates</td>\n",
       "    </tr>\n",
       "  </tbody>\n",
       "</table>\n",
       "</div>"
      ],
      "text/plain": [
       "  Code             Country  \n",
       "0   A1       Anonymous Proxy\n",
       "1   A2    Satellite Provider\n",
       "2   O1         Other Country\n",
       "3   AD               Andorra\n",
       "4   AE  United Arab Emirates"
      ]
     },
     "execution_count": 209,
     "metadata": {},
     "output_type": "execute_result"
    }
   ],
   "source": [
    "country.head()"
   ]
  },
  {
   "cell_type": "markdown",
   "metadata": {},
   "source": []
  },
  {
   "cell_type": "code",
   "execution_count": null,
   "metadata": {
    "collapsed": true
   },
   "outputs": [],
   "source": [
    "U, s, Vh = linalg.svd(df_main_questions)"
   ]
  },
  {
   "cell_type": "code",
   "execution_count": null,
   "metadata": {
    "collapsed": true
   },
   "outputs": [],
   "source": []
  },
  {
   "cell_type": "code",
   "execution_count": null,
   "metadata": {
    "collapsed": true
   },
   "outputs": [],
   "source": []
  }
 ],
 "metadata": {
  "kernelspec": {
   "display_name": "Python 2",
   "language": "python",
   "name": "python2"
  },
  "language_info": {
   "codemirror_mode": {
    "name": "ipython",
    "version": 2
   },
   "file_extension": ".py",
   "mimetype": "text/x-python",
   "name": "python",
   "nbconvert_exporter": "python",
   "pygments_lexer": "ipython2",
   "version": "2.7.11"
  }
 },
 "nbformat": 4,
 "nbformat_minor": 0
}
