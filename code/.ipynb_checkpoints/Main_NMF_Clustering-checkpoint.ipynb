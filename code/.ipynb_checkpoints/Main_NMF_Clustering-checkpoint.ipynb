{
 "cells": [
  {
   "cell_type": "code",
   "execution_count": 40,
   "metadata": {
    "collapsed": true
   },
   "outputs": [],
   "source": [
    "from model import model\n",
    "from scipy.stats import ttest_ind\n",
    "import matplotlib.pyplot as plt\n",
    "%matplotlib inline  \n",
    "import plotly.plotly as py\n",
    "import pandas as pd\n",
    "from sklearn.decomposition import FactorAnalysis\n",
    "from scipy.linalg import svd\n",
    "import numpy as np"
   ]
  },
  {
   "cell_type": "code",
   "execution_count": 41,
   "metadata": {
    "collapsed": false
   },
   "outputs": [],
   "source": [
    "main_ = model()\n"
   ]
  },
  {
   "cell_type": "code",
   "execution_count": 42,
   "metadata": {
    "collapsed": false
   },
   "outputs": [],
   "source": [
    "data, questions, country_dict, questions_dict, answers = main_.load_data()"
   ]
  },
  {
   "cell_type": "code",
   "execution_count": 50,
   "metadata": {
    "collapsed": false
   },
   "outputs": [],
   "source": [
    "W_5 = cPickle.load( open( \"data/clean_data/W_5.p\", \"rb\" ) )\n",
    "H_5 = cPickle.load( open( \"data/clean_data/H_5.p\", \"rb\" ) )\n",
    "nmf_5 = cPickle.load( open( \"data/clean_data/nmf_5.p\", \"rb\" ) )\n",
    "\n",
    "W_8 = cPickle.load( open( \"data/clean_data/W_8.p\", \"rb\" ) )\n",
    "H_8 = cPickle.load( open( \"data/clean_data/H_8.p\", \"rb\" ) )\n",
    "nmf_8 = cPickle.load( open( \"data/clean_data/nmf_8.p\", \"rb\" ) )\n",
    "\n",
    "W_16 = cPickle.load( open( \"data/clean_data/W_16.p\", \"rb\" ) )\n",
    "H_16 = cPickle.load( open( \"data/clean_data/H_16.p\", \"rb\" ) )\n",
    "nmf_16 = cPickle.load( open( \"data/clean_data/nmf_16.p\", \"rb\" ) )"
   ]
  },
  {
   "cell_type": "code",
   "execution_count": 51,
   "metadata": {
    "collapsed": false
   },
   "outputs": [
    {
     "ename": "SyntaxError",
     "evalue": "invalid syntax (<ipython-input-51-abd26c600fbd>, line 12)",
     "output_type": "error",
     "traceback": [
      "\u001b[0;36m  File \u001b[0;32m\"<ipython-input-51-abd26c600fbd>\"\u001b[0;36m, line \u001b[0;32m12\u001b[0m\n\u001b[0;31m    Openness to experience: (inventive/curious vs. consistent/cautious). Appreciation for art, emotion, adventure, unusual ideas, curiosity, and variety of experience. Openness reflects the degree of intellectual curiosity, creativity and a preference for novelty and variety a person has. It is also described as the extent to which a person is imaginative or independent, and depicts a personal preference for a variety of activities over a strict routine. High openness can be perceived as unpredictability or lack of focus. Moreover, individuals with high openness are said to pursue self-actualization specifically by seeking out intense, euphoric experiences, such as skydiving, living abroad, gambling, et cetera. Conversely, those with low openness seek to gain fulfillment through perseverance, and are characterized as pragmatic and data-driven—sometimes even perceived to be dogmatic and closed-minded. Some disagreement remains about how to interpret and contextualize the openness factor.\u001b[0m\n\u001b[0m              ^\u001b[0m\n\u001b[0;31mSyntaxError\u001b[0m\u001b[0;31m:\u001b[0m invalid syntax\n"
     ]
    }
   ],
   "source": [
    "#W_5, H_5 = main_.nmf(factors = 5, top_questions = 8)\n",
    "'''\n",
    "Topic 0: Sociability / Extroversion\n",
    "Topic 1: Solo / Introverted\n",
    "Topic 2: Simplicity\n",
    "Topic 3: Emotionally Sensitive / Neurotic\n",
    "Topic 4: Party-person, rule-breaker, wild, center-of-attention\n",
    "'''"
   ]
  },
  {
   "cell_type": "code",
   "execution_count": 52,
   "metadata": {
    "collapsed": false
   },
   "outputs": [
    {
     "ename": "SyntaxError",
     "evalue": "invalid syntax (<ipython-input-52-49ae3574b9eb>, line 17)",
     "output_type": "error",
     "traceback": [
      "\u001b[0;36m  File \u001b[0;32m\"<ipython-input-52-49ae3574b9eb>\"\u001b[0;36m, line \u001b[0;32m17\u001b[0m\n\u001b[0;31m    Openness to experience: (inventive/curious vs. consistent/cautious). Appreciation for art, emotion, adventure, unusual ideas, curiosity, and variety of experience. Openness reflects the degree of intellectual curiosity, creativity and a preference for novelty and variety a person has. It is also described as the extent to which a person is imaginative or independent, and depicts a personal preference for a variety of activities over a strict routine. High openness can be perceived as unpredictability or lack of focus. Moreover, individuals with high openness are said to pursue self-actualization specifically by seeking out intense, euphoric experiences, such as skydiving, living abroad, gambling, et cetera. Conversely, those with low openness seek to gain fulfillment through perseverance, and are characterized as pragmatic and data-driven—sometimes even perceived to be dogmatic and closed-minded. Some disagreement remains about how to interpret and contextualize the openness factor.\u001b[0m\n\u001b[0m              ^\u001b[0m\n\u001b[0;31mSyntaxError\u001b[0m\u001b[0;31m:\u001b[0m invalid syntax\n"
     ]
    }
   ],
   "source": [
    "#W_10, H_10 = main_.nmf(factors = 10, top_questions = 8)\n",
    "\n",
    "'''\n",
    "X Topic 0: Open about feelings / Comfortable with oneself, Empathetic\n",
    "X Topic 1: Worrying\n",
    "XTopic 2: Irritability / Judgemental\n",
    "X Topic 3: Being Alone (but not with negative emotional valence)\n",
    "Topic 4: Not Deep / Consider's Oneself Average / Not liking Art or deep thought\n",
    "X Topic 5: Likes Reading / Messy - Not Messy?\n",
    "X Topic 6: Sociable, Likes Parties, super-connecter\n",
    "X Topic 7: Rule-Following, respects authority (skips hard words, likes religion, avoids complex people)\n",
    "X Topic 8: Emotional / Open about Feelings\n",
    "Topic 9: Responsible / Reading / Perfectionist\n",
    "'''\n",
    "\n",
    "\n",
    "Openness to experience: (inventive/curious vs. consistent/cautious). Appreciation for art, emotion, adventure, unusual ideas, curiosity, and variety of experience. Openness reflects the degree of intellectual curiosity, creativity and a preference for novelty and variety a person has. It is also described as the extent to which a person is imaginative or independent, and depicts a personal preference for a variety of activities over a strict routine. High openness can be perceived as unpredictability or lack of focus. Moreover, individuals with high openness are said to pursue self-actualization specifically by seeking out intense, euphoric experiences, such as skydiving, living abroad, gambling, et cetera. Conversely, those with low openness seek to gain fulfillment through perseverance, and are characterized as pragmatic and data-driven—sometimes even perceived to be dogmatic and closed-minded. Some disagreement remains about how to interpret and contextualize the openness factor.\n",
    "Conscientiousness: (efficient/organized vs. easy-going/careless). A tendency to be organized and dependable, show self-discipline, act dutifully, aim for achievement, and prefer planned rather than spontaneous behavior. High conscientiousness are often perceived as stubborn and obsessive. Low conscientiousness are flexible and spontaneous, but can be perceived as sloppy and unreliable.[4]\n",
    "Extraversion: (outgoing/energetic vs. solitary/reserved). Energy, positive emotions, surgency, assertiveness, sociability and the tendency to seek stimulation in the company of others, and talkativeness. High extraversion is often perceived as attention-seeking, and domineering. Low extraversion causes a reserved, reflective personality, which can be perceived as aloof or self-absorbed.[5]\n",
    "Agreeableness: (friendly/compassionate vs. analytical/detached). A tendency to be compassionate and cooperative rather than suspicious and antagonistic towards others. It is also a measure of one's trusting and helpful nature, and whether a person is generally well-tempered or not. High agreeableness is often seen as naive or submissive. Low agreeableness personalities are often competitive or challenging people, which can be seen as argumentative or untrustworthy.[5]\n",
    "Neuroticism: (sensitive/nervous vs. secure/confident). The tendency to experience unpleasant emotions easily, such as anger, anxiety, depression, and vulnerability. Neuroticism also refers to the degree of emotional stability and impulse control and is sometimes referred to by its low pole, \"emotional stability\". A high need for stability manifests as a stable and calm personality, but can be seen as uninspiring and unconcerned. A low need for stability causes a reactive and excitable personality, often very dynamic individuals, but they can be perceived as unstable or insecure.[5]\n",
    "\n",
    "'''\n",
    "Topic 0: Respects Authority\n",
    "Topic 1: Quiet / Reads - not super clear\n",
    "Topic 2: Parties / Emotionally variable - not super coherent\n",
    "Topic 3: Quiet / Simple / Emotionally Stable\n",
    "Topic 4: Judgemental\n",
    "Topic 5: Messy / Type B\n",
    "Topic 6: Emotionally Open and Volatile\n",
    "Topic 7: Low Self-Confidence\n",
    "'''\n",
    "'''\n",
    "Topic 0: Sociability / Extroversion\n",
    "Topic 1: Solo / Introverted\n",
    "Topic 2: Simplicity\n",
    "Topic 3: Emotionally Sensitive / Neurotic\n",
    "Topic 4: Party-person, rule-breaker, wild, center-of-attention\n",
    "'''"
   ]
  },
  {
   "cell_type": "code",
   "execution_count": 53,
   "metadata": {
    "collapsed": false
   },
   "outputs": [
    {
     "data": {
      "text/plain": [
       "'\\nTopic 0: Respects Authority\\nTopic 1: Quiet / Reads - not super clear\\nTopic 2: Parties / Emotionally variable - not super coherent\\nTopic 3: Quiet / Simple / Emotionally Stable\\nTopic 4: Judgemental\\nTopic 5: Messy / Type B\\nTopic 6: Emotionally Open and Volatile\\nTopic 7: Low Self-Confidence\\n'"
      ]
     },
     "execution_count": 53,
     "metadata": {},
     "output_type": "execute_result"
    }
   ],
   "source": [
    "#W_8, H_8 = main_.nmf(factors = 8, top_questions = 8)\n",
    "'''\n",
    "Topic 0: Respects Authority\n",
    "Topic 1: Quiet / Reads - not super clear\n",
    "Topic 2: Parties / Emotionally variable - not super coherent\n",
    "Topic 3: Quiet / Simple / Emotionally Stable\n",
    "Topic 4: Judgemental\n",
    "Topic 5: Messy / Type B\n",
    "Topic 6: Emotionally Open and Volatile\n",
    "Topic 7: Low Self-Confidence\n",
    "'''"
   ]
  },
  {
   "cell_type": "code",
   "execution_count": 54,
   "metadata": {
    "collapsed": false
   },
   "outputs": [
    {
     "data": {
      "text/plain": [
       "'\\nTopic 0: Super-connector, comforts people\\nX Topic 1: Low self-confidence\\nX Topic 2: not complex, not deep, simple\\nX Topic 3: parties\\nX Topic 4: judgemental, distrusting\\nX Topic 5: messy, relaxed\\nX Topic 6: emotionally open, emotionally volatile\\n'"
      ]
     },
     "execution_count": 54,
     "metadata": {},
     "output_type": "execute_result"
    }
   ],
   "source": [
    "#W_7, H_7 = main_.nmf(factors = 7, top_questions = 8)\n",
    "'''\n",
    "Topic 0: Super-connector, comforts people\n",
    "X Topic 1: Low self-confidence\n",
    "X Topic 2: not complex, not deep, simple\n",
    "X Topic 3: parties\n",
    "X Topic 4: judgemental, distrusting\n",
    "X Topic 5: messy, relaxed\n",
    "X Topic 6: emotionally open, emotionally volatile\n",
    "'''\n"
   ]
  },
  {
   "cell_type": "code",
   "execution_count": 55,
   "metadata": {
    "collapsed": false
   },
   "outputs": [
    {
     "data": {
      "text/plain": [
       "\"\\nTopic 0: Almost all A - \\nTopic 1: Emotionally closed off and depressed\\nTopic 2: Messy / fearful / emotional\\nTopic 3: Party person, center of attention\\nTopic 4: Judgemental / Suscipious / Untrusting / No Day Dreaming!\\nTopic 5: Not frusterated or worried / enjoys silence\\nTopic 6: Emotionally Open (easily irritated!)\\nTopic 7: RANDOM not intellectual / not complex (loves flowers and cries during movies) \\nTopic 8: Messiness / Authority\\nTopic 9: Emotionally Open / DayDreaming (yes/no not clear)\\nTopic 10: Interest in other's emotions, low self-worth\\nTopic 11: Perfectionist\\nTopic 12: Judgementalness / Reading\\nTopic 13: Reading / average person / following rules\\nTopic 14: Respects rules / authority / not messy\\nTopic 15: Interest in Art and Theory / not involved in other's lives or independent\\n\""
      ]
     },
     "execution_count": 55,
     "metadata": {},
     "output_type": "execute_result"
    }
   ],
   "source": [
    "#W_16, H_16 = main_.nmf(factors = 16, top_questions = 8)\n",
    "\n",
    "'''\n",
    "Topic 0: Almost all A - \n",
    "Topic 1: Emotionally closed off and depressed\n",
    "Topic 2: Messy / fearful / emotional\n",
    "Topic 3: Party person, center of attention\n",
    "Topic 4: Judgemental / Suscipious / Untrusting / No Day Dreaming!\n",
    "Topic 5: Not frusterated or worried / enjoys silence\n",
    "Topic 6: Emotionally Open (easily irritated!)\n",
    "Topic 7: RANDOM not intellectual / not complex (loves flowers and cries during movies) \n",
    "Topic 8: Messiness / Authority\n",
    "Topic 9: Emotionally Open / DayDreaming (yes/no not clear)\n",
    "Topic 10: Interest in other's emotions, low self-worth\n",
    "Topic 11: Perfectionist\n",
    "Topic 12: Judgementalness / Reading\n",
    "Topic 13: Reading / average person / following rules\n",
    "Topic 14: Respects rules / authority / not messy\n",
    "Topic 15: Interest in Art and Theory / not involved in other's lives or independent\n",
    "'''\n"
   ]
  },
  {
   "cell_type": "code",
   "execution_count": 56,
   "metadata": {
    "collapsed": false
   },
   "outputs": [],
   "source": [
    "W_8_df = pd.DataFrame(W_8)"
   ]
  },
  {
   "cell_type": "code",
   "execution_count": 57,
   "metadata": {
    "collapsed": false
   },
   "outputs": [],
   "source": [
    "other_columns = [\"age\", \"gender\", \"accuracy\", \"country\", \"source\", \"elapsed\", \"country_name\", \"Continent\", \"age_bucket\"]\n",
    "factor_other = pd.concat([W_8_df, data[other_columns]], axis = 1)\n"
   ]
  },
  {
   "cell_type": "code",
   "execution_count": 58,
   "metadata": {
    "collapsed": false
   },
   "outputs": [
    {
     "data": {
      "text/html": [
       "<div>\n",
       "<table border=\"1\" class=\"dataframe\">\n",
       "  <thead>\n",
       "    <tr style=\"text-align: right;\">\n",
       "      <th></th>\n",
       "      <th>0</th>\n",
       "      <th>1</th>\n",
       "      <th>2</th>\n",
       "      <th>3</th>\n",
       "      <th>4</th>\n",
       "      <th>5</th>\n",
       "      <th>6</th>\n",
       "      <th>7</th>\n",
       "      <th>age</th>\n",
       "      <th>accuracy</th>\n",
       "      <th>source</th>\n",
       "      <th>elapsed</th>\n",
       "    </tr>\n",
       "    <tr>\n",
       "      <th>gender</th>\n",
       "      <th></th>\n",
       "      <th></th>\n",
       "      <th></th>\n",
       "      <th></th>\n",
       "      <th></th>\n",
       "      <th></th>\n",
       "      <th></th>\n",
       "      <th></th>\n",
       "      <th></th>\n",
       "      <th></th>\n",
       "      <th></th>\n",
       "      <th></th>\n",
       "    </tr>\n",
       "  </thead>\n",
       "  <tbody>\n",
       "    <tr>\n",
       "      <th>0</th>\n",
       "      <td>0.171251</td>\n",
       "      <td>0.172518</td>\n",
       "      <td>0.178771</td>\n",
       "      <td>0.125826</td>\n",
       "      <td>0.152872</td>\n",
       "      <td>0.103957</td>\n",
       "      <td>0.111661</td>\n",
       "      <td>0.132944</td>\n",
       "      <td>2.599497e+01</td>\n",
       "      <td>89.040201</td>\n",
       "      <td>2.984925</td>\n",
       "      <td>1570.738693</td>\n",
       "    </tr>\n",
       "    <tr>\n",
       "      <th>1</th>\n",
       "      <td>0.165584</td>\n",
       "      <td>0.155249</td>\n",
       "      <td>0.191517</td>\n",
       "      <td>0.122471</td>\n",
       "      <td>0.170399</td>\n",
       "      <td>0.116139</td>\n",
       "      <td>0.112094</td>\n",
       "      <td>0.112295</td>\n",
       "      <td>2.700208e+01</td>\n",
       "      <td>5871.014440</td>\n",
       "      <td>2.858546</td>\n",
       "      <td>2147.617340</td>\n",
       "    </tr>\n",
       "    <tr>\n",
       "      <th>2</th>\n",
       "      <td>0.172136</td>\n",
       "      <td>0.184832</td>\n",
       "      <td>0.162044</td>\n",
       "      <td>0.147111</td>\n",
       "      <td>0.131045</td>\n",
       "      <td>0.102537</td>\n",
       "      <td>0.102708</td>\n",
       "      <td>0.140727</td>\n",
       "      <td>2.771818e+01</td>\n",
       "      <td>81510.073213</td>\n",
       "      <td>2.846787</td>\n",
       "      <td>2490.967507</td>\n",
       "    </tr>\n",
       "    <tr>\n",
       "      <th>3</th>\n",
       "      <td>0.093816</td>\n",
       "      <td>0.279182</td>\n",
       "      <td>0.176177</td>\n",
       "      <td>0.107690</td>\n",
       "      <td>0.174433</td>\n",
       "      <td>0.109231</td>\n",
       "      <td>0.083094</td>\n",
       "      <td>0.160609</td>\n",
       "      <td>8.659417e+06</td>\n",
       "      <td>91.641129</td>\n",
       "      <td>2.459677</td>\n",
       "      <td>6446.641129</td>\n",
       "    </tr>\n",
       "  </tbody>\n",
       "</table>\n",
       "</div>"
      ],
      "text/plain": [
       "               0         1         2         3         4         5         6  \\\n",
       "gender                                                                         \n",
       "0       0.171251  0.172518  0.178771  0.125826  0.152872  0.103957  0.111661   \n",
       "1       0.165584  0.155249  0.191517  0.122471  0.170399  0.116139  0.112094   \n",
       "2       0.172136  0.184832  0.162044  0.147111  0.131045  0.102537  0.102708   \n",
       "3       0.093816  0.279182  0.176177  0.107690  0.174433  0.109231  0.083094   \n",
       "\n",
       "               7           age      accuracy    source      elapsed  \n",
       "gender                                                               \n",
       "0       0.132944  2.599497e+01     89.040201  2.984925  1570.738693  \n",
       "1       0.112295  2.700208e+01   5871.014440  2.858546  2147.617340  \n",
       "2       0.140727  2.771818e+01  81510.073213  2.846787  2490.967507  \n",
       "3       0.160609  8.659417e+06     91.641129  2.459677  6446.641129  "
      ]
     },
     "execution_count": 58,
     "metadata": {},
     "output_type": "execute_result"
    }
   ],
   "source": [
    "gender_factors = factor_other.groupby(\"gender\").mean()\n",
    "gender_factors"
   ]
  },
  {
   "cell_type": "code",
   "execution_count": 60,
   "metadata": {
    "collapsed": false
   },
   "outputs": [],
   "source": [
    "continent_factors = factor_other.groupby(\"Continent\").mean()\n",
    "continent_factors.to_csv('data/clean_data/continent_factors.csv')\n"
   ]
  },
  {
   "cell_type": "code",
   "execution_count": 61,
   "metadata": {
    "collapsed": false
   },
   "outputs": [],
   "source": [
    "country_factors = factor_other.groupby(\"country_name\").mean()\n",
    "#country_factors.to_csv('data/clean_data/country_factors.csv')\n"
   ]
  },
  {
   "cell_type": "code",
   "execution_count": 62,
   "metadata": {
    "collapsed": false
   },
   "outputs": [],
   "source": [
    "country_factors_count = factor_other.groupby(\"country_name\").count()\n",
    "#country_factors[(country_factors_count > 40).all(axis = 1)]\n",
    "factor_country_40 = factor_other.groupby(\"country_name\").mean()[(country_factors_count > 40).all(axis = 1)]\n",
    "factor_country_40.to_csv('data/clean_data/country_factors.csv')\n"
   ]
  },
  {
   "cell_type": "code",
   "execution_count": 63,
   "metadata": {
    "collapsed": false
   },
   "outputs": [
    {
     "data": {
      "text/html": [
       "<div>\n",
       "<table border=\"1\" class=\"dataframe\">\n",
       "  <thead>\n",
       "    <tr style=\"text-align: right;\">\n",
       "      <th></th>\n",
       "      <th>0</th>\n",
       "      <th>1</th>\n",
       "      <th>2</th>\n",
       "      <th>3</th>\n",
       "      <th>4</th>\n",
       "      <th>5</th>\n",
       "      <th>6</th>\n",
       "      <th>7</th>\n",
       "      <th>age</th>\n",
       "      <th>gender</th>\n",
       "      <th>accuracy</th>\n",
       "      <th>country</th>\n",
       "      <th>source</th>\n",
       "      <th>elapsed</th>\n",
       "      <th>country_name</th>\n",
       "      <th>Continent</th>\n",
       "      <th>age_bucket</th>\n",
       "    </tr>\n",
       "  </thead>\n",
       "  <tbody>\n",
       "    <tr>\n",
       "      <th>0</th>\n",
       "      <td>0.054477</td>\n",
       "      <td>0.277980</td>\n",
       "      <td>0.267880</td>\n",
       "      <td>0.046673</td>\n",
       "      <td>0.254304</td>\n",
       "      <td>0.010581</td>\n",
       "      <td>0.157520</td>\n",
       "      <td>0.228407</td>\n",
       "      <td>17</td>\n",
       "      <td>1</td>\n",
       "      <td>92</td>\n",
       "      <td>US</td>\n",
       "      <td>6</td>\n",
       "      <td>914</td>\n",
       "      <td>United States</td>\n",
       "      <td>North America</td>\n",
       "      <td>0-19</td>\n",
       "    </tr>\n",
       "    <tr>\n",
       "      <th>1</th>\n",
       "      <td>0.128266</td>\n",
       "      <td>0.389978</td>\n",
       "      <td>0.170003</td>\n",
       "      <td>0.060345</td>\n",
       "      <td>0.049557</td>\n",
       "      <td>0.076353</td>\n",
       "      <td>0.131198</td>\n",
       "      <td>0.094793</td>\n",
       "      <td>37</td>\n",
       "      <td>1</td>\n",
       "      <td>100</td>\n",
       "      <td>US</td>\n",
       "      <td>1</td>\n",
       "      <td>891</td>\n",
       "      <td>United States</td>\n",
       "      <td>North America</td>\n",
       "      <td>30-39</td>\n",
       "    </tr>\n",
       "    <tr>\n",
       "      <th>2</th>\n",
       "      <td>0.087551</td>\n",
       "      <td>0.227592</td>\n",
       "      <td>0.271228</td>\n",
       "      <td>0.058949</td>\n",
       "      <td>0.119296</td>\n",
       "      <td>0.172210</td>\n",
       "      <td>0.011438</td>\n",
       "      <td>0.205371</td>\n",
       "      <td>32</td>\n",
       "      <td>1</td>\n",
       "      <td>93</td>\n",
       "      <td>US</td>\n",
       "      <td>1</td>\n",
       "      <td>806</td>\n",
       "      <td>United States</td>\n",
       "      <td>North America</td>\n",
       "      <td>30-39</td>\n",
       "    </tr>\n",
       "    <tr>\n",
       "      <th>3</th>\n",
       "      <td>0.185946</td>\n",
       "      <td>0.299484</td>\n",
       "      <td>0.071075</td>\n",
       "      <td>0.133758</td>\n",
       "      <td>0.095373</td>\n",
       "      <td>0.064974</td>\n",
       "      <td>0.223460</td>\n",
       "      <td>0.029250</td>\n",
       "      <td>46</td>\n",
       "      <td>2</td>\n",
       "      <td>87</td>\n",
       "      <td>NZ</td>\n",
       "      <td>1</td>\n",
       "      <td>1826</td>\n",
       "      <td>New Zealand</td>\n",
       "      <td>Oceania</td>\n",
       "      <td>40-49</td>\n",
       "    </tr>\n",
       "    <tr>\n",
       "      <th>4</th>\n",
       "      <td>0.156248</td>\n",
       "      <td>0.135368</td>\n",
       "      <td>0.223855</td>\n",
       "      <td>0.088153</td>\n",
       "      <td>0.185109</td>\n",
       "      <td>0.040146</td>\n",
       "      <td>0.118889</td>\n",
       "      <td>0.247675</td>\n",
       "      <td>36</td>\n",
       "      <td>2</td>\n",
       "      <td>80</td>\n",
       "      <td>IT</td>\n",
       "      <td>3</td>\n",
       "      <td>669</td>\n",
       "      <td>Italy</td>\n",
       "      <td>Europe</td>\n",
       "      <td>30-39</td>\n",
       "    </tr>\n",
       "  </tbody>\n",
       "</table>\n",
       "</div>"
      ],
      "text/plain": [
       "          0         1         2         3         4         5         6  \\\n",
       "0  0.054477  0.277980  0.267880  0.046673  0.254304  0.010581  0.157520   \n",
       "1  0.128266  0.389978  0.170003  0.060345  0.049557  0.076353  0.131198   \n",
       "2  0.087551  0.227592  0.271228  0.058949  0.119296  0.172210  0.011438   \n",
       "3  0.185946  0.299484  0.071075  0.133758  0.095373  0.064974  0.223460   \n",
       "4  0.156248  0.135368  0.223855  0.088153  0.185109  0.040146  0.118889   \n",
       "\n",
       "          7  age  gender  accuracy country  source  elapsed   country_name  \\\n",
       "0  0.228407   17       1        92      US       6      914  United States   \n",
       "1  0.094793   37       1       100      US       1      891  United States   \n",
       "2  0.205371   32       1        93      US       1      806  United States   \n",
       "3  0.029250   46       2        87      NZ       1     1826    New Zealand   \n",
       "4  0.247675   36       2        80      IT       3      669          Italy   \n",
       "\n",
       "       Continent age_bucket  \n",
       "0  North America       0-19  \n",
       "1  North America      30-39  \n",
       "2  North America      30-39  \n",
       "3        Oceania      40-49  \n",
       "4         Europe      30-39  "
      ]
     },
     "execution_count": 63,
     "metadata": {},
     "output_type": "execute_result"
    }
   ],
   "source": [
    "factor_other.head()"
   ]
  },
  {
   "cell_type": "code",
   "execution_count": 16,
   "metadata": {
    "collapsed": false
   },
   "outputs": [],
   "source": [
    "age_factors = factor_other.groupby(\"age_bucket\").mean()"
   ]
  },
  {
   "cell_type": "code",
   "execution_count": 64,
   "metadata": {
    "collapsed": false
   },
   "outputs": [
    {
     "data": {
      "image/png": "[encoded data removed]",
      "text/plain": [
       "<matplotlib.figure.Figure at 0x119378110>"
      ]
     },
     "metadata": {},
     "output_type": "display_data"
    }
   ],
   "source": [
    "ax = plt.subplot(111)\n",
    "\n",
    "ax.bar(range(1, 24, 3), gender_factors[1:2][[i for i in range(8)]].values.T , tick_label=gender_factors.columns[0:8], align = 'center', color = '#00cccc', label='Men')\n",
    "ax.bar(range(0, 24, 3), gender_factors[2:3][[i for i in range(8)]].values.T , tick_label=gender_factors.columns[0:8], align = 'center', color = '#990033', label='Women')\n",
    "\n",
    "plt.title('8 Factors by Gender')\n",
    "plt.legend()\n",
    "plt.show()\n"
   ]
  },
  {
   "cell_type": "code",
   "execution_count": null,
   "metadata": {
    "collapsed": false
   },
   "outputs": [],
   "source": []
  },
  {
   "cell_type": "code",
   "execution_count": null,
   "metadata": {
    "collapsed": true
   },
   "outputs": [],
   "source": []
  }
 ],
 "metadata": {
  "kernelspec": {
   "display_name": "Python 2",
   "language": "python",
   "name": "python2"
  },
  "language_info": {
   "codemirror_mode": {
    "name": "ipython",
    "version": 2
   },
   "file_extension": ".py",
   "mimetype": "text/x-python",
   "name": "python",
   "nbconvert_exporter": "python",
   "pygments_lexer": "ipython2",
   "version": "2.7.11"
  }
 },
 "nbformat": 4,
 "nbformat_minor": 0
}
