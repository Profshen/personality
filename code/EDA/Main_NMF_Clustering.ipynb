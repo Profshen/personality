{
 "cells": [
  {
   "cell_type": "code",
   "execution_count": 40,
   "metadata": {
    "collapsed": true
   },
   "outputs": [],
   "source": [
    "from model import model\n",
    "from scipy.stats import ttest_ind\n",
    "import matplotlib.pyplot as plt\n",
    "%matplotlib inline  \n",
    "import plotly.plotly as py\n",
    "import pandas as pd\n",
    "from sklearn.decomposition import FactorAnalysis\n",
    "from scipy.linalg import svd\n",
    "import numpy as np"
   ]
  },
  {
   "cell_type": "code",
   "execution_count": 73,
   "metadata": {
    "collapsed": false
   },
   "outputs": [
    {
     "name": "stdout",
     "output_type": "stream",
     "text": [
      "Reconstruction error: 0.826456\n",
      "Topic 0:\n",
      "['I know how to comfort others', 'I make friends easily', 'I feel comfortable around people', 'I start conversations', 'I enjoy bringing people together', 'I am open about myself to others', 'I cheer people up', 'I make people feel at ease']\n",
      "['A1', 'G4', 'G1', 'G5', 'A2', 'K6', 'A5', 'A6']\n",
      "Topic 1:\n",
      "['I am easily hurt', 'I am afraid that I will do the wrong thing', 'I worry about things', 'I often feel blue', \"I feel guilty when I say 'no'\", 'I spend time thinking about past mistakes', 'I find it difficult to approach others', 'I dislike myself']\n",
      "['L3', 'L1', 'L4', 'C7', 'L6', 'L5', 'G6', 'C8']\n",
      "Topic 2:\n",
      "['I do not like poetry', 'I try to avoid complex people', 'I seldom daydream', 'I avoid philosophical discussions', 'I have little to say', 'I seldom get lost in thought', 'I respect authority', 'I reveal little about myself']\n",
      "['H8', 'M10', 'J9', 'M6', 'G8', 'J10', 'F4', 'K1']\n",
      "Topic 3:\n",
      "['I act wild and crazy', 'I love large parties', 'I enjoy being part of a loud crowd', 'I use swear words', 'I get angry easily', 'I talk to a lot of different people at parties', 'I get irritated easily', 'I am the life of the party']\n",
      "['E6', 'E2', 'E4', 'F8', 'P2', 'G2', 'P1', 'E1']\n",
      "Topic 4:\n",
      "['I am hard to get to know', 'I know the answers to many questions', 'I swim against the current', \"I counter others' arguments\", 'I know how to get around the rules', \"I don't mind eating alone\", 'I prefer to do things by myself', 'I break rules']\n",
      "['K2', 'B2', 'J5', 'B6', 'F10', 'N5', 'N2', 'F7']\n",
      "Reconstruction error: 0.749326\n",
      "Topic 0:\n",
      "['I make friends easily', 'I talk to a lot of different people at parties', 'I enjoy bringing people together', 'I love large parties', 'I feel comfortable around people', 'I start conversations', 'I cheer people up', 'I enjoy teamwork']\n",
      "['G4', 'G2', 'A2', 'E2', 'G1', 'G5', 'A5', 'N9']\n",
      "Topic 1:\n",
      "['I am afraid that I will do the wrong thing', 'I often feel blue', 'I am easily hurt', 'I dislike myself', 'I find it difficult to approach others', 'I worry about things', 'I often feel uncomfortable around others', 'I spend time thinking about past mistakes']\n",
      "['L1', 'C7', 'L3', 'C8', 'G6', 'L4', 'G7', 'L5']\n",
      "Topic 2:\n",
      "['I act wild and crazy', 'I love large parties', 'I have frequent mood swings', 'I enjoy being part of a loud crowd', 'I break rules', 'I am the life of the party', 'I talk to a lot of different people at parties', 'I do unexpected things']\n",
      "['E6', 'E2', 'C6', 'E4', 'F7', 'E1', 'G2', 'J7']\n",
      "Topic 3:\n",
      "[\"I counter others' arguments\", 'I know the answers to many questions', 'I distrust people', 'I am not afraid of providing criticism', \"I am annoyed by others' mistakes\", 'I am hard to get to know', 'I use swear words', 'I prefer to do things by myself']\n",
      "['B6', 'B2', 'I4', 'D4', 'P4', 'K2', 'F8', 'N2']\n",
      "Topic 4:\n",
      "['I have little to say', \"I don't talk a lot\", 'I seldom joke around', 'I seldom get lost in thought', 'I seldom daydream', 'I try to avoid complex people', 'I rarely look for a deeper meaning in things', 'I am not easily frustrated']\n",
      "['G8', 'K3', 'E7', 'J10', 'J9', 'M10', 'M7', 'C5']\n",
      "Topic 5:\n",
      "['I show my feelings', 'I am open about my feelings', 'I am open about myself to others', 'I am willing to talk about myself', 'I like order', 'I am quick to judge others', 'I try to follow the rules', 'I believe laws should be strictly enforced']\n",
      "['K9', 'K7', 'K6', 'K10', 'O3', 'P3', 'F2', 'F1']\n",
      "Topic 6:\n",
      "['I am open about my feelings', 'I am open about myself to others', 'I show my feelings', 'I believe in the importance of art', 'I like to read', 'I am not bothered by disorder', 'I read a lot', 'I am willing to talk about myself']\n",
      "['K7', 'K6', 'K9', 'M1', 'H1', 'O7', 'H3', 'K10']\n",
      "Topic 7:\n",
      "['I leave a mess in my room', 'I consider myself an average person', 'I put off unpleasant tasks', 'I leave my belongings around', 'I know that I am not a special person', 'I do not like poetry', 'I let others make the decisions', 'I wait for others to lead the way']\n",
      "['O8', 'B9', 'O10', 'O9', 'B11', 'H8', 'D9', 'D7']\n",
      "Reconstruction error: 0.651341\n",
      "Topic 0:\n",
      "['I am exacting in my work', 'I continue until everything is perfect', 'I take charge', 'I like order', 'I take control of things', 'I respect authority', 'I try to follow the rules', 'I weigh the pros against the cons']\n",
      "['O5', 'O4', 'D1', 'O3', 'D5', 'F4', 'F2', 'B8']\n",
      "Topic 1:\n",
      "['I often feel blue', 'I find it difficult to approach others', 'I bottle up my feelings', 'I often feel uncomfortable around others', 'I dislike myself', 'I am hard to get to know', \"I don't talk a lot\", 'I keep my thoughts to myself']\n",
      "['C7', 'G6', 'K4', 'G7', 'C8', 'K2', 'K3', 'K5']\n",
      "Topic 2:\n",
      "['I love large parties', 'I talk to a lot of different people at parties', 'I break rules', 'I am the life of the party', 'I enjoy being part of a loud crowd', 'I know how to get around the rules', 'I start conversations', 'I enjoy bringing people together']\n",
      "['E2', 'G2', 'F7', 'E1', 'E4', 'F10', 'G5', 'A2']\n",
      "Topic 3:\n",
      "['I avoid philosophical discussions', 'I try to avoid complex people', 'I am not interested in theoretical discussions', 'I get irritated easily', 'I get angry easily', \"I don't like to get involved in other people's problems\", 'I reveal little about myself', 'I rarely look for a deeper meaning in things']\n",
      "['M6', 'M10', 'M8', 'P1', 'P2', 'A8', 'K1', 'M7']\n",
      "Topic 4:\n",
      "['I do not enjoy watching dance performances', 'I resist authority', \"I counter others' arguments\", 'I know the answers to many questions', 'I oppose authority', 'I am not afraid of providing criticism', 'I dislike loud music', \"I am annoyed by others' mistakes\"]\n",
      "['H7', 'F6', 'B6', 'B2', 'F9', 'D4', 'E10', 'P4']\n",
      "Topic 5:\n",
      "[\"I don't talk a lot\", 'I am quiet around strangers', 'I reveal little about myself', 'I am not easily annoyed', 'I am not easily frustrated', 'I keep my thoughts to myself', 'I keep in the background', 'I am not easily bothered by things']\n",
      "['K3', 'G9', 'K1', 'P8', 'C5', 'K5', 'G10', 'L9']\n",
      "Topic 6:\n",
      "['I leave a mess in my room', 'I leave my belongings around', 'I am not bothered by disorder', 'I am not bothered by messy people', 'I put off unpleasant tasks', 'I am not afraid of providing criticism', 'I know the answers to many questions', \"I counter others' arguments\"]\n",
      "['O8', 'O9', 'O7', 'O6', 'O10', 'D4', 'B2', 'B6']\n",
      "Topic 7:\n",
      "['I show my feelings', 'I am open about myself to others', 'I am open about my feelings', 'I disclose my intimate thoughts', 'I am willing to talk about myself', 'I get irritated easily', 'I get angry easily', 'I have frequent mood swings']\n",
      "['K9', 'K6', 'K7', 'K8', 'K10', 'P1', 'P2', 'C6']\n",
      "Topic 8:\n",
      "['I believe in one true religion', 'I like to stand during the national anthem', 'I consider myself an average person', 'I respect authority', 'I believe laws should be strictly enforced', 'I suspect hidden motives in others', 'I believe that people seldom tell you the whole truth', 'I try to follow the rules']\n",
      "['F3', 'F5', 'B9', 'F4', 'F1', 'I2', 'I5', 'F2']\n",
      "Topic 9:\n",
      "['I am open about myself to others', 'I am open about my feelings', 'I love large parties', 'I talk to a lot of different people at parties', 'I am not easily annoyed', 'I am not easily frustrated', 'I make friends easily', 'I enjoy being part of a loud crowd']\n",
      "['K6', 'K7', 'E2', 'G2', 'P8', 'C5', 'G4', 'E4']\n",
      "Topic 10:\n",
      "['I seldom daydream', 'I seldom get lost in thought', 'I like to read', 'I read a lot', 'I seldom joke around', 'I enjoy discussing movies and books with others', 'I get chores done right away', 'I enjoy teamwork']\n",
      "['J9', 'J10', 'H1', 'H3', 'E7', 'H2', 'O2', 'N9']\n",
      "Topic 11:\n",
      "['I know that I am not a special person', 'I consider myself an average person', 'I use swear words', 'I do not enjoy watching dance performances', 'I joke around a lot', 'I do not like poetry', 'I dislike myself', 'I believe that people seldom tell you the whole truth']\n",
      "['B11', 'B9', 'F8', 'H7', 'E3', 'H8', 'C8', 'I5']\n",
      "Topic 12:\n",
      "['I read a lot', 'I like to read', 'I love to daydream', 'I enjoy discussing movies and books with others', 'I enjoy wild flights of fantasy', 'I like to get lost in thought', 'I believe in the importance of art', 'I love flowers']\n",
      "['H3', 'H1', 'J4', 'H2', 'J3', 'J2', 'M1', 'H6']\n",
      "Topic 13:\n",
      "['I cry during movies', \"I don't like action movies\", 'I love flowers', 'I leave my belongings around', \"I feel guilty when I say 'no'\", 'I am easily hurt', 'I let myself be pushed around', 'I leave a mess in my room']\n",
      "['H5', 'H4', 'H6', 'O9', 'L6', 'L3', 'D10', 'O8']\n",
      "Topic 14:\n",
      "['I judge people by their appearance', \"I can't do without the company of others\", \"I feel guilty when I say 'no'\", 'I am afraid that I will do the wrong thing', 'I trust what people say', 'I trust others', 'I am quick to judge others', 'I put off unpleasant tasks']\n",
      "['P7', 'N10', 'L6', 'L1', 'I7', 'I8', 'P3', 'O10']\n",
      "Topic 15:\n",
      "['I enjoy wild flights of fantasy', 'I act wild and crazy', 'I love to daydream', 'I do things that others find strange', 'I do unexpected things', 'I skip difficult words while reading', 'I like to get lost in thought', 'I have a poor vocabulary']\n",
      "['J3', 'E6', 'J4', 'J1', 'J7', 'B13', 'J2', 'B12']\n",
      "The pickling is complete! Yummy!\n"
     ]
    }
   ],
   "source": [
    "main_ = model()\n",
    "main_.pickle()"
   ]
  },
  {
   "cell_type": "code",
   "execution_count": 42,
   "metadata": {
    "collapsed": false
   },
   "outputs": [],
   "source": [
    "data, questions, country_dict, questions_dict, answers = main_.load_data()"
   ]
  },
  {
   "cell_type": "code",
   "execution_count": 75,
   "metadata": {
    "collapsed": false
   },
   "outputs": [],
   "source": [
    "W_5 = cPickle.load( open( \"data/clean_data/W_5.p\", \"rb\" ) )\n",
    "H_5 = cPickle.load( open( \"data/clean_data/H_5.p\", \"rb\" ) )\n",
    "nmf_5 = cPickle.load( open( \"data/clean_data/nmf_5.p\", \"rb\" ) )\n",
    "\n",
    "W_8 = cPickle.load( open( \"data/clean_data/W_8.p\", \"rb\" ) )\n",
    "H_8 = cPickle.load( open( \"data/clean_data/H_8.p\", \"rb\" ) )\n",
    "nmf_8 = cPickle.load( open( \"data/clean_data/nmf_8.p\", \"rb\" ) )\n",
    "\n",
    "W_16 = cPickle.load( open( \"data/clean_data/W_16.p\", \"rb\" ) )\n",
    "H_16 = cPickle.load( open( \"data/clean_data/H_16.p\", \"rb\" ) )\n",
    "nmf_16 = cPickle.load( open( \"data/clean_data/nmf_16.p\", \"rb\" ) )"
   ]
  },
  {
   "cell_type": "code",
   "execution_count": 51,
   "metadata": {
    "collapsed": false
   },
   "outputs": [
    {
     "ename": "SyntaxError",
     "evalue": "invalid syntax (<ipython-input-51-abd26c600fbd>, line 12)",
     "output_type": "error",
     "traceback": [
      "\u001b[0;36m  File \u001b[0;32m\"<ipython-input-51-abd26c600fbd>\"\u001b[0;36m, line \u001b[0;32m12\u001b[0m\n\u001b[0;31m    Openness to experience: (inventive/curious vs. consistent/cautious). Appreciation for art, emotion, adventure, unusual ideas, curiosity, and variety of experience. Openness reflects the degree of intellectual curiosity, creativity and a preference for novelty and variety a person has. It is also described as the extent to which a person is imaginative or independent, and depicts a personal preference for a variety of activities over a strict routine. High openness can be perceived as unpredictability or lack of focus. Moreover, individuals with high openness are said to pursue self-actualization specifically by seeking out intense, euphoric experiences, such as skydiving, living abroad, gambling, et cetera. Conversely, those with low openness seek to gain fulfillment through perseverance, and are characterized as pragmatic and data-driven—sometimes even perceived to be dogmatic and closed-minded. Some disagreement remains about how to interpret and contextualize the openness factor.\u001b[0m\n\u001b[0m              ^\u001b[0m\n\u001b[0;31mSyntaxError\u001b[0m\u001b[0;31m:\u001b[0m invalid syntax\n"
     ]
    }
   ],
   "source": [
    "#W_5, H_5 = main_.nmf(factors = 5, top_questions = 8)\n",
    "'''\n",
    "Topic 0: Sociability / Extroversion\n",
    "Topic 1: Solo / Introverted\n",
    "Topic 2: Simplicity\n",
    "Topic 3: Emotionally Sensitive / Neurotic\n",
    "Topic 4: Party-person, rule-breaker, wild, center-of-attention\n",
    "'''"
   ]
  },
  {
   "cell_type": "code",
   "execution_count": 52,
   "metadata": {
    "collapsed": false
   },
   "outputs": [
    {
     "ename": "SyntaxError",
     "evalue": "invalid syntax (<ipython-input-52-49ae3574b9eb>, line 17)",
     "output_type": "error",
     "traceback": [
      "\u001b[0;36m  File \u001b[0;32m\"<ipython-input-52-49ae3574b9eb>\"\u001b[0;36m, line \u001b[0;32m17\u001b[0m\n\u001b[0;31m    Openness to experience: (inventive/curious vs. consistent/cautious). Appreciation for art, emotion, adventure, unusual ideas, curiosity, and variety of experience. Openness reflects the degree of intellectual curiosity, creativity and a preference for novelty and variety a person has. It is also described as the extent to which a person is imaginative or independent, and depicts a personal preference for a variety of activities over a strict routine. High openness can be perceived as unpredictability or lack of focus. Moreover, individuals with high openness are said to pursue self-actualization specifically by seeking out intense, euphoric experiences, such as skydiving, living abroad, gambling, et cetera. Conversely, those with low openness seek to gain fulfillment through perseverance, and are characterized as pragmatic and data-driven—sometimes even perceived to be dogmatic and closed-minded. Some disagreement remains about how to interpret and contextualize the openness factor.\u001b[0m\n\u001b[0m              ^\u001b[0m\n\u001b[0;31mSyntaxError\u001b[0m\u001b[0;31m:\u001b[0m invalid syntax\n"
     ]
    }
   ],
   "source": [
    "#W_10, H_10 = main_.nmf(factors = 10, top_questions = 8)\n",
    "\n",
    "'''\n",
    "X Topic 0: Open about feelings / Comfortable with oneself, Empathetic\n",
    "X Topic 1: Worrying\n",
    "XTopic 2: Irritability / Judgemental\n",
    "X Topic 3: Being Alone (but not with negative emotional valence)\n",
    "Topic 4: Not Deep / Consider's Oneself Average / Not liking Art or deep thought\n",
    "X Topic 5: Likes Reading / Messy - Not Messy?\n",
    "X Topic 6: Sociable, Likes Parties, super-connecter\n",
    "X Topic 7: Rule-Following, respects authority (skips hard words, likes religion, avoids complex people)\n",
    "X Topic 8: Emotional / Open about Feelings\n",
    "Topic 9: Responsible / Reading / Perfectionist\n",
    "'''\n",
    "\n",
    "\n",
    "Openness to experience: (inventive/curious vs. consistent/cautious). Appreciation for art, emotion, adventure, unusual ideas, curiosity, and variety of experience. Openness reflects the degree of intellectual curiosity, creativity and a preference for novelty and variety a person has. It is also described as the extent to which a person is imaginative or independent, and depicts a personal preference for a variety of activities over a strict routine. High openness can be perceived as unpredictability or lack of focus. Moreover, individuals with high openness are said to pursue self-actualization specifically by seeking out intense, euphoric experiences, such as skydiving, living abroad, gambling, et cetera. Conversely, those with low openness seek to gain fulfillment through perseverance, and are characterized as pragmatic and data-driven—sometimes even perceived to be dogmatic and closed-minded. Some disagreement remains about how to interpret and contextualize the openness factor.\n",
    "Conscientiousness: (efficient/organized vs. easy-going/careless). A tendency to be organized and dependable, show self-discipline, act dutifully, aim for achievement, and prefer planned rather than spontaneous behavior. High conscientiousness are often perceived as stubborn and obsessive. Low conscientiousness are flexible and spontaneous, but can be perceived as sloppy and unreliable.[4]\n",
    "Extraversion: (outgoing/energetic vs. solitary/reserved). Energy, positive emotions, surgency, assertiveness, sociability and the tendency to seek stimulation in the company of others, and talkativeness. High extraversion is often perceived as attention-seeking, and domineering. Low extraversion causes a reserved, reflective personality, which can be perceived as aloof or self-absorbed.[5]\n",
    "Agreeableness: (friendly/compassionate vs. analytical/detached). A tendency to be compassionate and cooperative rather than suspicious and antagonistic towards others. It is also a measure of one's trusting and helpful nature, and whether a person is generally well-tempered or not. High agreeableness is often seen as naive or submissive. Low agreeableness personalities are often competitive or challenging people, which can be seen as argumentative or untrustworthy.[5]\n",
    "Neuroticism: (sensitive/nervous vs. secure/confident). The tendency to experience unpleasant emotions easily, such as anger, anxiety, depression, and vulnerability. Neuroticism also refers to the degree of emotional stability and impulse control and is sometimes referred to by its low pole, \"emotional stability\". A high need for stability manifests as a stable and calm personality, but can be seen as uninspiring and unconcerned. A low need for stability causes a reactive and excitable personality, often very dynamic individuals, but they can be perceived as unstable or insecure.[5]\n",
    "\n",
    "'''\n",
    "Topic 0: Respects Authority\n",
    "Topic 1: Quiet / Reads - not super clear\n",
    "Topic 2: Parties / Emotionally variable - not super coherent\n",
    "Topic 3: Quiet / Simple / Emotionally Stable\n",
    "Topic 4: Judgemental\n",
    "Topic 5: Messy / Type B\n",
    "Topic 6: Emotionally Open and Volatile\n",
    "Topic 7: Low Self-Confidence\n",
    "'''\n",
    "'''\n",
    "Topic 0: Sociability / Extroversion\n",
    "Topic 1: Solo / Introverted\n",
    "Topic 2: Simplicity\n",
    "Topic 3: Emotionally Sensitive / Neurotic\n",
    "Topic 4: Party-person, rule-breaker, wild, center-of-attention\n",
    "'''"
   ]
  },
  {
   "cell_type": "code",
   "execution_count": 53,
   "metadata": {
    "collapsed": false
   },
   "outputs": [
    {
     "data": {
      "text/plain": [
       "'\\nTopic 0: Respects Authority\\nTopic 1: Quiet / Reads - not super clear\\nTopic 2: Parties / Emotionally variable - not super coherent\\nTopic 3: Quiet / Simple / Emotionally Stable\\nTopic 4: Judgemental\\nTopic 5: Messy / Type B\\nTopic 6: Emotionally Open and Volatile\\nTopic 7: Low Self-Confidence\\n'"
      ]
     },
     "execution_count": 53,
     "metadata": {},
     "output_type": "execute_result"
    }
   ],
   "source": [
    "#W_8, H_8 = main_.nmf(factors = 8, top_questions = 8)\n",
    "'''\n",
    "Topic 0: Respects Authority\n",
    "Topic 1: Quiet / Reads - not super clear\n",
    "Topic 2: Parties / Emotionally variable - not super coherent\n",
    "Topic 3: Quiet / Simple / Emotionally Stable\n",
    "Topic 4: Judgemental\n",
    "Topic 5: Messy / Type B\n",
    "Topic 6: Emotionally Open and Volatile\n",
    "Topic 7: Low Self-Confidence\n",
    "'''"
   ]
  },
  {
   "cell_type": "code",
   "execution_count": 54,
   "metadata": {
    "collapsed": false
   },
   "outputs": [
    {
     "data": {
      "text/plain": [
       "'\\nTopic 0: Super-connector, comforts people\\nX Topic 1: Low self-confidence\\nX Topic 2: not complex, not deep, simple\\nX Topic 3: parties\\nX Topic 4: judgemental, distrusting\\nX Topic 5: messy, relaxed\\nX Topic 6: emotionally open, emotionally volatile\\n'"
      ]
     },
     "execution_count": 54,
     "metadata": {},
     "output_type": "execute_result"
    }
   ],
   "source": [
    "#W_7, H_7 = main_.nmf(factors = 7, top_questions = 8)\n",
    "'''\n",
    "Topic 0: Super-connector, comforts people\n",
    "X Topic 1: Low self-confidence\n",
    "X Topic 2: not complex, not deep, simple\n",
    "X Topic 3: parties\n",
    "X Topic 4: judgemental, distrusting\n",
    "X Topic 5: messy, relaxed\n",
    "X Topic 6: emotionally open, emotionally volatile\n",
    "'''\n"
   ]
  },
  {
   "cell_type": "code",
   "execution_count": 55,
   "metadata": {
    "collapsed": false
   },
   "outputs": [
    {
     "data": {
      "text/plain": [
       "\"\\nTopic 0: Almost all A - \\nTopic 1: Emotionally closed off and depressed\\nTopic 2: Messy / fearful / emotional\\nTopic 3: Party person, center of attention\\nTopic 4: Judgemental / Suscipious / Untrusting / No Day Dreaming!\\nTopic 5: Not frusterated or worried / enjoys silence\\nTopic 6: Emotionally Open (easily irritated!)\\nTopic 7: RANDOM not intellectual / not complex (loves flowers and cries during movies) \\nTopic 8: Messiness / Authority\\nTopic 9: Emotionally Open / DayDreaming (yes/no not clear)\\nTopic 10: Interest in other's emotions, low self-worth\\nTopic 11: Perfectionist\\nTopic 12: Judgementalness / Reading\\nTopic 13: Reading / average person / following rules\\nTopic 14: Respects rules / authority / not messy\\nTopic 15: Interest in Art and Theory / not involved in other's lives or independent\\n\""
      ]
     },
     "execution_count": 55,
     "metadata": {},
     "output_type": "execute_result"
    }
   ],
   "source": [
    "#W_16, H_16 = main_.nmf(factors = 16, top_questions = 8)\n",
    "\n",
    "'''\n",
    "Topic 0: Almost all A - \n",
    "Topic 1: Emotionally closed off and depressed\n",
    "Topic 2: Messy / fearful / emotional\n",
    "Topic 3: Party person, center of attention\n",
    "Topic 4: Judgemental / Suscipious / Untrusting / No Day Dreaming!\n",
    "Topic 5: Not frusterated or worried / enjoys silence\n",
    "Topic 6: Emotionally Open (easily irritated!)\n",
    "Topic 7: RANDOM not intellectual / not complex (loves flowers and cries during movies) \n",
    "Topic 8: Messiness / Authority\n",
    "Topic 9: Emotionally Open / DayDreaming (yes/no not clear)\n",
    "Topic 10: Interest in other's emotions, low self-worth\n",
    "Topic 11: Perfectionist\n",
    "Topic 12: Judgementalness / Reading\n",
    "Topic 13: Reading / average person / following rules\n",
    "Topic 14: Respects rules / authority / not messy\n",
    "Topic 15: Interest in Art and Theory / not involved in other's lives or independent\n",
    "'''\n"
   ]
  },
  {
   "cell_type": "code",
   "execution_count": 76,
   "metadata": {
    "collapsed": false
   },
   "outputs": [],
   "source": [
    "W_8_df = pd.DataFrame(W_8)"
   ]
  },
  {
   "cell_type": "code",
   "execution_count": 77,
   "metadata": {
    "collapsed": false
   },
   "outputs": [],
   "source": [
    "other_columns = [\"age\", \"gender\", \"accuracy\", \"country\", \"source\", \"elapsed\", \"country_name\", \"Continent\", \"age_bucket\"]\n",
    "factor_other = pd.concat([W_8_df, data[other_columns]], axis = 1)\n"
   ]
  },
  {
   "cell_type": "code",
   "execution_count": 78,
   "metadata": {
    "collapsed": false
   },
   "outputs": [
    {
     "data": {
      "text/html": [
       "<div>\n",
       "<table border=\"1\" class=\"dataframe\">\n",
       "  <thead>\n",
       "    <tr style=\"text-align: right;\">\n",
       "      <th></th>\n",
       "      <th>0</th>\n",
       "      <th>1</th>\n",
       "      <th>2</th>\n",
       "      <th>3</th>\n",
       "      <th>4</th>\n",
       "      <th>5</th>\n",
       "      <th>6</th>\n",
       "      <th>7</th>\n",
       "      <th>age</th>\n",
       "      <th>accuracy</th>\n",
       "      <th>source</th>\n",
       "      <th>elapsed</th>\n",
       "    </tr>\n",
       "    <tr>\n",
       "      <th>gender</th>\n",
       "      <th></th>\n",
       "      <th></th>\n",
       "      <th></th>\n",
       "      <th></th>\n",
       "      <th></th>\n",
       "      <th></th>\n",
       "      <th></th>\n",
       "      <th></th>\n",
       "      <th></th>\n",
       "      <th></th>\n",
       "      <th></th>\n",
       "      <th></th>\n",
       "    </tr>\n",
       "  </thead>\n",
       "  <tbody>\n",
       "    <tr>\n",
       "      <th>0</th>\n",
       "      <td>0.165161</td>\n",
       "      <td>0.166535</td>\n",
       "      <td>0.148859</td>\n",
       "      <td>0.217237</td>\n",
       "      <td>0.127159</td>\n",
       "      <td>0.139835</td>\n",
       "      <td>0.131373</td>\n",
       "      <td>0.100014</td>\n",
       "      <td>2.599497e+01</td>\n",
       "      <td>89.040201</td>\n",
       "      <td>2.984925</td>\n",
       "      <td>1570.738693</td>\n",
       "    </tr>\n",
       "    <tr>\n",
       "      <th>1</th>\n",
       "      <td>0.172034</td>\n",
       "      <td>0.142045</td>\n",
       "      <td>0.142692</td>\n",
       "      <td>0.244589</td>\n",
       "      <td>0.143612</td>\n",
       "      <td>0.123184</td>\n",
       "      <td>0.123072</td>\n",
       "      <td>0.107413</td>\n",
       "      <td>2.700208e+01</td>\n",
       "      <td>5871.014440</td>\n",
       "      <td>2.858546</td>\n",
       "      <td>2147.617340</td>\n",
       "    </tr>\n",
       "    <tr>\n",
       "      <th>2</th>\n",
       "      <td>0.157239</td>\n",
       "      <td>0.196436</td>\n",
       "      <td>0.155464</td>\n",
       "      <td>0.172635</td>\n",
       "      <td>0.124297</td>\n",
       "      <td>0.149422</td>\n",
       "      <td>0.126039</td>\n",
       "      <td>0.101574</td>\n",
       "      <td>2.771818e+01</td>\n",
       "      <td>81510.073213</td>\n",
       "      <td>2.846787</td>\n",
       "      <td>2490.967507</td>\n",
       "    </tr>\n",
       "    <tr>\n",
       "      <th>3</th>\n",
       "      <td>0.090242</td>\n",
       "      <td>0.256376</td>\n",
       "      <td>0.153420</td>\n",
       "      <td>0.298834</td>\n",
       "      <td>0.110041</td>\n",
       "      <td>0.091744</td>\n",
       "      <td>0.138770</td>\n",
       "      <td>0.095230</td>\n",
       "      <td>8.659417e+06</td>\n",
       "      <td>91.641129</td>\n",
       "      <td>2.459677</td>\n",
       "      <td>6446.641129</td>\n",
       "    </tr>\n",
       "  </tbody>\n",
       "</table>\n",
       "</div>"
      ],
      "text/plain": [
       "               0         1         2         3         4         5         6  \\\n",
       "gender                                                                         \n",
       "0       0.165161  0.166535  0.148859  0.217237  0.127159  0.139835  0.131373   \n",
       "1       0.172034  0.142045  0.142692  0.244589  0.143612  0.123184  0.123072   \n",
       "2       0.157239  0.196436  0.155464  0.172635  0.124297  0.149422  0.126039   \n",
       "3       0.090242  0.256376  0.153420  0.298834  0.110041  0.091744  0.138770   \n",
       "\n",
       "               7           age      accuracy    source      elapsed  \n",
       "gender                                                               \n",
       "0       0.100014  2.599497e+01     89.040201  2.984925  1570.738693  \n",
       "1       0.107413  2.700208e+01   5871.014440  2.858546  2147.617340  \n",
       "2       0.101574  2.771818e+01  81510.073213  2.846787  2490.967507  \n",
       "3       0.095230  8.659417e+06     91.641129  2.459677  6446.641129  "
      ]
     },
     "execution_count": 78,
     "metadata": {},
     "output_type": "execute_result"
    }
   ],
   "source": [
    "gender_factors = factor_other.groupby(\"gender\").mean()\n",
    "gender_factors"
   ]
  },
  {
   "cell_type": "code",
   "execution_count": 79,
   "metadata": {
    "collapsed": false
   },
   "outputs": [],
   "source": [
    "continent_factors = factor_other.groupby(\"Continent\").mean()\n",
    "continent_factors.to_csv('data/clean_data/continent_factors.csv')\n"
   ]
  },
  {
   "cell_type": "code",
   "execution_count": 80,
   "metadata": {
    "collapsed": false
   },
   "outputs": [],
   "source": [
    "country_factors = factor_other.groupby(\"country_name\").mean()\n",
    "#country_factors.to_csv('data/clean_data/country_factors.csv')\n"
   ]
  },
  {
   "cell_type": "code",
   "execution_count": 81,
   "metadata": {
    "collapsed": false
   },
   "outputs": [],
   "source": [
    "country_factors_count = factor_other.groupby(\"country_name\").count()\n",
    "#country_factors[(country_factors_count > 40).all(axis = 1)]\n",
    "factor_country_40 = factor_other.groupby(\"country_name\").mean()[(country_factors_count > 40).all(axis = 1)]\n",
    "factor_country_40.to_csv('data/clean_data/country_factors.csv')\n"
   ]
  },
  {
   "cell_type": "code",
   "execution_count": 63,
   "metadata": {
    "collapsed": false
   },
   "outputs": [
    {
     "data": {
      "text/html": [
       "<div>\n",
       "<table border=\"1\" class=\"dataframe\">\n",
       "  <thead>\n",
       "    <tr style=\"text-align: right;\">\n",
       "      <th></th>\n",
       "      <th>0</th>\n",
       "      <th>1</th>\n",
       "      <th>2</th>\n",
       "      <th>3</th>\n",
       "      <th>4</th>\n",
       "      <th>5</th>\n",
       "      <th>6</th>\n",
       "      <th>7</th>\n",
       "      <th>age</th>\n",
       "      <th>gender</th>\n",
       "      <th>accuracy</th>\n",
       "      <th>country</th>\n",
       "      <th>source</th>\n",
       "      <th>elapsed</th>\n",
       "      <th>country_name</th>\n",
       "      <th>Continent</th>\n",
       "      <th>age_bucket</th>\n",
       "    </tr>\n",
       "  </thead>\n",
       "  <tbody>\n",
       "    <tr>\n",
       "      <th>0</th>\n",
       "      <td>0.054477</td>\n",
       "      <td>0.277980</td>\n",
       "      <td>0.267880</td>\n",
       "      <td>0.046673</td>\n",
       "      <td>0.254304</td>\n",
       "      <td>0.010581</td>\n",
       "      <td>0.157520</td>\n",
       "      <td>0.228407</td>\n",
       "      <td>17</td>\n",
       "      <td>1</td>\n",
       "      <td>92</td>\n",
       "      <td>US</td>\n",
       "      <td>6</td>\n",
       "      <td>914</td>\n",
       "      <td>United States</td>\n",
       "      <td>North America</td>\n",
       "      <td>0-19</td>\n",
       "    </tr>\n",
       "    <tr>\n",
       "      <th>1</th>\n",
       "      <td>0.128266</td>\n",
       "      <td>0.389978</td>\n",
       "      <td>0.170003</td>\n",
       "      <td>0.060345</td>\n",
       "      <td>0.049557</td>\n",
       "      <td>0.076353</td>\n",
       "      <td>0.131198</td>\n",
       "      <td>0.094793</td>\n",
       "      <td>37</td>\n",
       "      <td>1</td>\n",
       "      <td>100</td>\n",
       "      <td>US</td>\n",
       "      <td>1</td>\n",
       "      <td>891</td>\n",
       "      <td>United States</td>\n",
       "      <td>North America</td>\n",
       "      <td>30-39</td>\n",
       "    </tr>\n",
       "    <tr>\n",
       "      <th>2</th>\n",
       "      <td>0.087551</td>\n",
       "      <td>0.227592</td>\n",
       "      <td>0.271228</td>\n",
       "      <td>0.058949</td>\n",
       "      <td>0.119296</td>\n",
       "      <td>0.172210</td>\n",
       "      <td>0.011438</td>\n",
       "      <td>0.205371</td>\n",
       "      <td>32</td>\n",
       "      <td>1</td>\n",
       "      <td>93</td>\n",
       "      <td>US</td>\n",
       "      <td>1</td>\n",
       "      <td>806</td>\n",
       "      <td>United States</td>\n",
       "      <td>North America</td>\n",
       "      <td>30-39</td>\n",
       "    </tr>\n",
       "    <tr>\n",
       "      <th>3</th>\n",
       "      <td>0.185946</td>\n",
       "      <td>0.299484</td>\n",
       "      <td>0.071075</td>\n",
       "      <td>0.133758</td>\n",
       "      <td>0.095373</td>\n",
       "      <td>0.064974</td>\n",
       "      <td>0.223460</td>\n",
       "      <td>0.029250</td>\n",
       "      <td>46</td>\n",
       "      <td>2</td>\n",
       "      <td>87</td>\n",
       "      <td>NZ</td>\n",
       "      <td>1</td>\n",
       "      <td>1826</td>\n",
       "      <td>New Zealand</td>\n",
       "      <td>Oceania</td>\n",
       "      <td>40-49</td>\n",
       "    </tr>\n",
       "    <tr>\n",
       "      <th>4</th>\n",
       "      <td>0.156248</td>\n",
       "      <td>0.135368</td>\n",
       "      <td>0.223855</td>\n",
       "      <td>0.088153</td>\n",
       "      <td>0.185109</td>\n",
       "      <td>0.040146</td>\n",
       "      <td>0.118889</td>\n",
       "      <td>0.247675</td>\n",
       "      <td>36</td>\n",
       "      <td>2</td>\n",
       "      <td>80</td>\n",
       "      <td>IT</td>\n",
       "      <td>3</td>\n",
       "      <td>669</td>\n",
       "      <td>Italy</td>\n",
       "      <td>Europe</td>\n",
       "      <td>30-39</td>\n",
       "    </tr>\n",
       "  </tbody>\n",
       "</table>\n",
       "</div>"
      ],
      "text/plain": [
       "          0         1         2         3         4         5         6  \\\n",
       "0  0.054477  0.277980  0.267880  0.046673  0.254304  0.010581  0.157520   \n",
       "1  0.128266  0.389978  0.170003  0.060345  0.049557  0.076353  0.131198   \n",
       "2  0.087551  0.227592  0.271228  0.058949  0.119296  0.172210  0.011438   \n",
       "3  0.185946  0.299484  0.071075  0.133758  0.095373  0.064974  0.223460   \n",
       "4  0.156248  0.135368  0.223855  0.088153  0.185109  0.040146  0.118889   \n",
       "\n",
       "          7  age  gender  accuracy country  source  elapsed   country_name  \\\n",
       "0  0.228407   17       1        92      US       6      914  United States   \n",
       "1  0.094793   37       1       100      US       1      891  United States   \n",
       "2  0.205371   32       1        93      US       1      806  United States   \n",
       "3  0.029250   46       2        87      NZ       1     1826    New Zealand   \n",
       "4  0.247675   36       2        80      IT       3      669          Italy   \n",
       "\n",
       "       Continent age_bucket  \n",
       "0  North America       0-19  \n",
       "1  North America      30-39  \n",
       "2  North America      30-39  \n",
       "3        Oceania      40-49  \n",
       "4         Europe      30-39  "
      ]
     },
     "execution_count": 63,
     "metadata": {},
     "output_type": "execute_result"
    }
   ],
   "source": [
    "factor_other.head()"
   ]
  },
  {
   "cell_type": "code",
   "execution_count": 82,
   "metadata": {
    "collapsed": false
   },
   "outputs": [],
   "source": [
    "age_factors = factor_other.groupby(\"age_bucket\").mean()"
   ]
  },
  {
   "cell_type": "code",
   "execution_count": 64,
   "metadata": {
    "collapsed": false
   },
   "outputs": [
    {
     "data": {
      "image/png": "[encoded data removed]",
      "text/plain": [
       "<matplotlib.figure.Figure at 0x119378110>"
      ]
     },
     "metadata": {},
     "output_type": "display_data"
    }
   ],
   "source": [
    "ax = plt.subplot(111)\n",
    "\n",
    "ax.bar(range(1, 24, 3), gender_factors[1:2][[i for i in range(8)]].values.T , tick_label=gender_factors.columns[0:8], align = 'center', color = '#00cccc', label='Men')\n",
    "ax.bar(range(0, 24, 3), gender_factors[2:3][[i for i in range(8)]].values.T , tick_label=gender_factors.columns[0:8], align = 'center', color = '#990033', label='Women')\n",
    "\n",
    "plt.title('8 Factors by Gender')\n",
    "plt.legend()\n",
    "plt.show()\n"
   ]
  },
  {
   "cell_type": "code",
   "execution_count": 83,
   "metadata": {
    "collapsed": false
   },
   "outputs": [
    {
     "data": {
      "image/png": "[encoded data removed]",
      "text/plain": [
       "<matplotlib.figure.Figure at 0x118e34dd0>"
      ]
     },
     "metadata": {},
     "output_type": "display_data"
    }
   ],
   "source": [
    "ax = plt.subplot(111)\n",
    "\n",
    "ax.bar(range(1, 24, 3), gender_factors[1:2][[i for i in range(8)]].values.T , tick_label=gender_factors.columns[0:8], align = 'center', color = '#00cccc', label='Men')\n",
    "ax.bar(range(0, 24, 3), gender_factors[2:3][[i for i in range(8)]].values.T , tick_label=gender_factors.columns[0:8], align = 'center', color = '#990033', label='Women')\n",
    "\n",
    "plt.title('8 Factors by Gender')\n",
    "plt.legend()\n",
    "plt.show()\n"
   ]
  },
  {
   "cell_type": "code",
   "execution_count": null,
   "metadata": {
    "collapsed": true
   },
   "outputs": [],
   "source": []
  }
 ],
 "metadata": {
  "kernelspec": {
   "display_name": "Python 2",
   "language": "python",
   "name": "python2"
  },
  "language_info": {
   "codemirror_mode": {
    "name": "ipython",
    "version": 2
   },
   "file_extension": ".py",
   "mimetype": "text/x-python",
   "name": "python",
   "nbconvert_exporter": "python",
   "pygments_lexer": "ipython2",
   "version": "2.7.11"
  }
 },
 "nbformat": 4,
 "nbformat_minor": 0
}
